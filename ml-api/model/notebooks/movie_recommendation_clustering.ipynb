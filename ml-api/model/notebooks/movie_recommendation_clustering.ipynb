{
 "cells": [
  {
   "cell_type": "markdown",
   "metadata": {},
   "source": [
    "### Inicialização"
   ]
  },
  {
   "cell_type": "code",
   "execution_count": 31,
   "metadata": {},
   "outputs": [],
   "source": [
    "import numpy as np\n",
    "import pandas as pd\n",
    "\n",
    "movies = pd.read_csv('./../data/tmdb_5000_movies.csv')\n",
    "credits = pd.read_csv('./../data/tmdb_5000_credits.csv')"
   ]
  },
  {
   "cell_type": "markdown",
   "metadata": {},
   "source": [
    "### Conhecendo os dados"
   ]
  },
  {
   "cell_type": "code",
   "execution_count": 32,
   "metadata": {},
   "outputs": [
    {
     "data": {
      "text/html": [
       "<div>\n",
       "<style scoped>\n",
       "    .dataframe tbody tr th:only-of-type {\n",
       "        vertical-align: middle;\n",
       "    }\n",
       "\n",
       "    .dataframe tbody tr th {\n",
       "        vertical-align: top;\n",
       "    }\n",
       "\n",
       "    .dataframe thead th {\n",
       "        text-align: right;\n",
       "    }\n",
       "</style>\n",
       "<table border=\"1\" class=\"dataframe\">\n",
       "  <thead>\n",
       "    <tr style=\"text-align: right;\">\n",
       "      <th></th>\n",
       "      <th>budget</th>\n",
       "      <th>genres</th>\n",
       "      <th>homepage</th>\n",
       "      <th>id</th>\n",
       "      <th>keywords</th>\n",
       "      <th>original_language</th>\n",
       "      <th>original_title</th>\n",
       "      <th>overview</th>\n",
       "      <th>popularity</th>\n",
       "      <th>production_companies</th>\n",
       "      <th>production_countries</th>\n",
       "      <th>release_date</th>\n",
       "      <th>revenue</th>\n",
       "      <th>runtime</th>\n",
       "      <th>spoken_languages</th>\n",
       "      <th>status</th>\n",
       "      <th>tagline</th>\n",
       "      <th>title</th>\n",
       "      <th>vote_average</th>\n",
       "      <th>vote_count</th>\n",
       "    </tr>\n",
       "  </thead>\n",
       "  <tbody>\n",
       "    <tr>\n",
       "      <th>0</th>\n",
       "      <td>237000000</td>\n",
       "      <td>[{\"id\": 28, \"name\": \"Action\"}, {\"id\": 12, \"nam...</td>\n",
       "      <td>http://www.avatarmovie.com/</td>\n",
       "      <td>19995</td>\n",
       "      <td>[{\"id\": 1463, \"name\": \"culture clash\"}, {\"id\":...</td>\n",
       "      <td>en</td>\n",
       "      <td>Avatar</td>\n",
       "      <td>In the 22nd century, a paraplegic Marine is di...</td>\n",
       "      <td>150.437577</td>\n",
       "      <td>[{\"name\": \"Ingenious Film Partners\", \"id\": 289...</td>\n",
       "      <td>[{\"iso_3166_1\": \"US\", \"name\": \"United States o...</td>\n",
       "      <td>2009-12-10</td>\n",
       "      <td>2787965087</td>\n",
       "      <td>162.0</td>\n",
       "      <td>[{\"iso_639_1\": \"en\", \"name\": \"English\"}, {\"iso...</td>\n",
       "      <td>Released</td>\n",
       "      <td>Enter the World of Pandora.</td>\n",
       "      <td>Avatar</td>\n",
       "      <td>7.2</td>\n",
       "      <td>11800</td>\n",
       "    </tr>\n",
       "    <tr>\n",
       "      <th>1</th>\n",
       "      <td>300000000</td>\n",
       "      <td>[{\"id\": 12, \"name\": \"Adventure\"}, {\"id\": 14, \"...</td>\n",
       "      <td>http://disney.go.com/disneypictures/pirates/</td>\n",
       "      <td>285</td>\n",
       "      <td>[{\"id\": 270, \"name\": \"ocean\"}, {\"id\": 726, \"na...</td>\n",
       "      <td>en</td>\n",
       "      <td>Pirates of the Caribbean: At World's End</td>\n",
       "      <td>Captain Barbossa, long believed to be dead, ha...</td>\n",
       "      <td>139.082615</td>\n",
       "      <td>[{\"name\": \"Walt Disney Pictures\", \"id\": 2}, {\"...</td>\n",
       "      <td>[{\"iso_3166_1\": \"US\", \"name\": \"United States o...</td>\n",
       "      <td>2007-05-19</td>\n",
       "      <td>961000000</td>\n",
       "      <td>169.0</td>\n",
       "      <td>[{\"iso_639_1\": \"en\", \"name\": \"English\"}]</td>\n",
       "      <td>Released</td>\n",
       "      <td>At the end of the world, the adventure begins.</td>\n",
       "      <td>Pirates of the Caribbean: At World's End</td>\n",
       "      <td>6.9</td>\n",
       "      <td>4500</td>\n",
       "    </tr>\n",
       "    <tr>\n",
       "      <th>2</th>\n",
       "      <td>245000000</td>\n",
       "      <td>[{\"id\": 28, \"name\": \"Action\"}, {\"id\": 12, \"nam...</td>\n",
       "      <td>http://www.sonypictures.com/movies/spectre/</td>\n",
       "      <td>206647</td>\n",
       "      <td>[{\"id\": 470, \"name\": \"spy\"}, {\"id\": 818, \"name...</td>\n",
       "      <td>en</td>\n",
       "      <td>Spectre</td>\n",
       "      <td>A cryptic message from Bond’s past sends him o...</td>\n",
       "      <td>107.376788</td>\n",
       "      <td>[{\"name\": \"Columbia Pictures\", \"id\": 5}, {\"nam...</td>\n",
       "      <td>[{\"iso_3166_1\": \"GB\", \"name\": \"United Kingdom\"...</td>\n",
       "      <td>2015-10-26</td>\n",
       "      <td>880674609</td>\n",
       "      <td>148.0</td>\n",
       "      <td>[{\"iso_639_1\": \"fr\", \"name\": \"Fran\\u00e7ais\"},...</td>\n",
       "      <td>Released</td>\n",
       "      <td>A Plan No One Escapes</td>\n",
       "      <td>Spectre</td>\n",
       "      <td>6.3</td>\n",
       "      <td>4466</td>\n",
       "    </tr>\n",
       "  </tbody>\n",
       "</table>\n",
       "</div>"
      ],
      "text/plain": [
       "      budget                                             genres  \\\n",
       "0  237000000  [{\"id\": 28, \"name\": \"Action\"}, {\"id\": 12, \"nam...   \n",
       "1  300000000  [{\"id\": 12, \"name\": \"Adventure\"}, {\"id\": 14, \"...   \n",
       "2  245000000  [{\"id\": 28, \"name\": \"Action\"}, {\"id\": 12, \"nam...   \n",
       "\n",
       "                                       homepage      id  \\\n",
       "0                   http://www.avatarmovie.com/   19995   \n",
       "1  http://disney.go.com/disneypictures/pirates/     285   \n",
       "2   http://www.sonypictures.com/movies/spectre/  206647   \n",
       "\n",
       "                                            keywords original_language  \\\n",
       "0  [{\"id\": 1463, \"name\": \"culture clash\"}, {\"id\":...                en   \n",
       "1  [{\"id\": 270, \"name\": \"ocean\"}, {\"id\": 726, \"na...                en   \n",
       "2  [{\"id\": 470, \"name\": \"spy\"}, {\"id\": 818, \"name...                en   \n",
       "\n",
       "                             original_title  \\\n",
       "0                                    Avatar   \n",
       "1  Pirates of the Caribbean: At World's End   \n",
       "2                                   Spectre   \n",
       "\n",
       "                                            overview  popularity  \\\n",
       "0  In the 22nd century, a paraplegic Marine is di...  150.437577   \n",
       "1  Captain Barbossa, long believed to be dead, ha...  139.082615   \n",
       "2  A cryptic message from Bond’s past sends him o...  107.376788   \n",
       "\n",
       "                                production_companies  \\\n",
       "0  [{\"name\": \"Ingenious Film Partners\", \"id\": 289...   \n",
       "1  [{\"name\": \"Walt Disney Pictures\", \"id\": 2}, {\"...   \n",
       "2  [{\"name\": \"Columbia Pictures\", \"id\": 5}, {\"nam...   \n",
       "\n",
       "                                production_countries release_date     revenue  \\\n",
       "0  [{\"iso_3166_1\": \"US\", \"name\": \"United States o...   2009-12-10  2787965087   \n",
       "1  [{\"iso_3166_1\": \"US\", \"name\": \"United States o...   2007-05-19   961000000   \n",
       "2  [{\"iso_3166_1\": \"GB\", \"name\": \"United Kingdom\"...   2015-10-26   880674609   \n",
       "\n",
       "   runtime                                   spoken_languages    status  \\\n",
       "0    162.0  [{\"iso_639_1\": \"en\", \"name\": \"English\"}, {\"iso...  Released   \n",
       "1    169.0           [{\"iso_639_1\": \"en\", \"name\": \"English\"}]  Released   \n",
       "2    148.0  [{\"iso_639_1\": \"fr\", \"name\": \"Fran\\u00e7ais\"},...  Released   \n",
       "\n",
       "                                          tagline  \\\n",
       "0                     Enter the World of Pandora.   \n",
       "1  At the end of the world, the adventure begins.   \n",
       "2                           A Plan No One Escapes   \n",
       "\n",
       "                                      title  vote_average  vote_count  \n",
       "0                                    Avatar           7.2       11800  \n",
       "1  Pirates of the Caribbean: At World's End           6.9        4500  \n",
       "2                                   Spectre           6.3        4466  "
      ]
     },
     "execution_count": 32,
     "metadata": {},
     "output_type": "execute_result"
    }
   ],
   "source": [
    "movies.head(3)"
   ]
  },
  {
   "cell_type": "code",
   "execution_count": 33,
   "metadata": {},
   "outputs": [
    {
     "data": {
      "text/plain": [
       "(4796, 20)"
      ]
     },
     "execution_count": 33,
     "metadata": {},
     "output_type": "execute_result"
    }
   ],
   "source": [
    "movies.shape"
   ]
  },
  {
   "cell_type": "code",
   "execution_count": 34,
   "metadata": {},
   "outputs": [
    {
     "data": {
      "text/html": [
       "<div>\n",
       "<style scoped>\n",
       "    .dataframe tbody tr th:only-of-type {\n",
       "        vertical-align: middle;\n",
       "    }\n",
       "\n",
       "    .dataframe tbody tr th {\n",
       "        vertical-align: top;\n",
       "    }\n",
       "\n",
       "    .dataframe thead th {\n",
       "        text-align: right;\n",
       "    }\n",
       "</style>\n",
       "<table border=\"1\" class=\"dataframe\">\n",
       "  <thead>\n",
       "    <tr style=\"text-align: right;\">\n",
       "      <th></th>\n",
       "      <th>movie_id</th>\n",
       "      <th>title</th>\n",
       "      <th>cast</th>\n",
       "      <th>crew</th>\n",
       "    </tr>\n",
       "  </thead>\n",
       "  <tbody>\n",
       "    <tr>\n",
       "      <th>0</th>\n",
       "      <td>19995</td>\n",
       "      <td>Avatar</td>\n",
       "      <td>[{\"cast_id\": 242, \"character\": \"Jake Sully\", \"...</td>\n",
       "      <td>[{\"credit_id\": \"52fe48009251416c750aca23\", \"de...</td>\n",
       "    </tr>\n",
       "    <tr>\n",
       "      <th>1</th>\n",
       "      <td>285</td>\n",
       "      <td>Pirates of the Caribbean: At World's End</td>\n",
       "      <td>[{\"cast_id\": 4, \"character\": \"Captain Jack Spa...</td>\n",
       "      <td>[{\"credit_id\": \"52fe4232c3a36847f800b579\", \"de...</td>\n",
       "    </tr>\n",
       "    <tr>\n",
       "      <th>2</th>\n",
       "      <td>206647</td>\n",
       "      <td>Spectre</td>\n",
       "      <td>[{\"cast_id\": 1, \"character\": \"James Bond\", \"cr...</td>\n",
       "      <td>[{\"credit_id\": \"54805967c3a36829b5002c41\", \"de...</td>\n",
       "    </tr>\n",
       "  </tbody>\n",
       "</table>\n",
       "</div>"
      ],
      "text/plain": [
       "   movie_id                                     title  \\\n",
       "0     19995                                    Avatar   \n",
       "1       285  Pirates of the Caribbean: At World's End   \n",
       "2    206647                                   Spectre   \n",
       "\n",
       "                                                cast  \\\n",
       "0  [{\"cast_id\": 242, \"character\": \"Jake Sully\", \"...   \n",
       "1  [{\"cast_id\": 4, \"character\": \"Captain Jack Spa...   \n",
       "2  [{\"cast_id\": 1, \"character\": \"James Bond\", \"cr...   \n",
       "\n",
       "                                                crew  \n",
       "0  [{\"credit_id\": \"52fe48009251416c750aca23\", \"de...  \n",
       "1  [{\"credit_id\": \"52fe4232c3a36847f800b579\", \"de...  \n",
       "2  [{\"credit_id\": \"54805967c3a36829b5002c41\", \"de...  "
      ]
     },
     "execution_count": 34,
     "metadata": {},
     "output_type": "execute_result"
    }
   ],
   "source": [
    "credits.head(3)"
   ]
  },
  {
   "cell_type": "code",
   "execution_count": 35,
   "metadata": {},
   "outputs": [
    {
     "data": {
      "text/plain": [
       "(4796, 4)"
      ]
     },
     "execution_count": 35,
     "metadata": {},
     "output_type": "execute_result"
    }
   ],
   "source": [
    "credits.shape"
   ]
  },
  {
   "cell_type": "markdown",
   "metadata": {},
   "source": [
    "### Transformando os dados"
   ]
  },
  {
   "cell_type": "code",
   "execution_count": 36,
   "metadata": {},
   "outputs": [],
   "source": [
    "movies = movies.merge(credits, on='title')"
   ]
  },
  {
   "cell_type": "code",
   "execution_count": 37,
   "metadata": {},
   "outputs": [
    {
     "data": {
      "text/html": [
       "<div>\n",
       "<style scoped>\n",
       "    .dataframe tbody tr th:only-of-type {\n",
       "        vertical-align: middle;\n",
       "    }\n",
       "\n",
       "    .dataframe tbody tr th {\n",
       "        vertical-align: top;\n",
       "    }\n",
       "\n",
       "    .dataframe thead th {\n",
       "        text-align: right;\n",
       "    }\n",
       "</style>\n",
       "<table border=\"1\" class=\"dataframe\">\n",
       "  <thead>\n",
       "    <tr style=\"text-align: right;\">\n",
       "      <th></th>\n",
       "      <th>budget</th>\n",
       "      <th>genres</th>\n",
       "      <th>homepage</th>\n",
       "      <th>id</th>\n",
       "      <th>keywords</th>\n",
       "      <th>original_language</th>\n",
       "      <th>original_title</th>\n",
       "      <th>overview</th>\n",
       "      <th>popularity</th>\n",
       "      <th>production_companies</th>\n",
       "      <th>...</th>\n",
       "      <th>runtime</th>\n",
       "      <th>spoken_languages</th>\n",
       "      <th>status</th>\n",
       "      <th>tagline</th>\n",
       "      <th>title</th>\n",
       "      <th>vote_average</th>\n",
       "      <th>vote_count</th>\n",
       "      <th>movie_id</th>\n",
       "      <th>cast</th>\n",
       "      <th>crew</th>\n",
       "    </tr>\n",
       "  </thead>\n",
       "  <tbody>\n",
       "    <tr>\n",
       "      <th>0</th>\n",
       "      <td>237000000</td>\n",
       "      <td>[{\"id\": 28, \"name\": \"Action\"}, {\"id\": 12, \"nam...</td>\n",
       "      <td>http://www.avatarmovie.com/</td>\n",
       "      <td>19995</td>\n",
       "      <td>[{\"id\": 1463, \"name\": \"culture clash\"}, {\"id\":...</td>\n",
       "      <td>en</td>\n",
       "      <td>Avatar</td>\n",
       "      <td>In the 22nd century, a paraplegic Marine is di...</td>\n",
       "      <td>150.437577</td>\n",
       "      <td>[{\"name\": \"Ingenious Film Partners\", \"id\": 289...</td>\n",
       "      <td>...</td>\n",
       "      <td>162.0</td>\n",
       "      <td>[{\"iso_639_1\": \"en\", \"name\": \"English\"}, {\"iso...</td>\n",
       "      <td>Released</td>\n",
       "      <td>Enter the World of Pandora.</td>\n",
       "      <td>Avatar</td>\n",
       "      <td>7.2</td>\n",
       "      <td>11800</td>\n",
       "      <td>19995</td>\n",
       "      <td>[{\"cast_id\": 242, \"character\": \"Jake Sully\", \"...</td>\n",
       "      <td>[{\"credit_id\": \"52fe48009251416c750aca23\", \"de...</td>\n",
       "    </tr>\n",
       "    <tr>\n",
       "      <th>1</th>\n",
       "      <td>300000000</td>\n",
       "      <td>[{\"id\": 12, \"name\": \"Adventure\"}, {\"id\": 14, \"...</td>\n",
       "      <td>http://disney.go.com/disneypictures/pirates/</td>\n",
       "      <td>285</td>\n",
       "      <td>[{\"id\": 270, \"name\": \"ocean\"}, {\"id\": 726, \"na...</td>\n",
       "      <td>en</td>\n",
       "      <td>Pirates of the Caribbean: At World's End</td>\n",
       "      <td>Captain Barbossa, long believed to be dead, ha...</td>\n",
       "      <td>139.082615</td>\n",
       "      <td>[{\"name\": \"Walt Disney Pictures\", \"id\": 2}, {\"...</td>\n",
       "      <td>...</td>\n",
       "      <td>169.0</td>\n",
       "      <td>[{\"iso_639_1\": \"en\", \"name\": \"English\"}]</td>\n",
       "      <td>Released</td>\n",
       "      <td>At the end of the world, the adventure begins.</td>\n",
       "      <td>Pirates of the Caribbean: At World's End</td>\n",
       "      <td>6.9</td>\n",
       "      <td>4500</td>\n",
       "      <td>285</td>\n",
       "      <td>[{\"cast_id\": 4, \"character\": \"Captain Jack Spa...</td>\n",
       "      <td>[{\"credit_id\": \"52fe4232c3a36847f800b579\", \"de...</td>\n",
       "    </tr>\n",
       "    <tr>\n",
       "      <th>2</th>\n",
       "      <td>245000000</td>\n",
       "      <td>[{\"id\": 28, \"name\": \"Action\"}, {\"id\": 12, \"nam...</td>\n",
       "      <td>http://www.sonypictures.com/movies/spectre/</td>\n",
       "      <td>206647</td>\n",
       "      <td>[{\"id\": 470, \"name\": \"spy\"}, {\"id\": 818, \"name...</td>\n",
       "      <td>en</td>\n",
       "      <td>Spectre</td>\n",
       "      <td>A cryptic message from Bond’s past sends him o...</td>\n",
       "      <td>107.376788</td>\n",
       "      <td>[{\"name\": \"Columbia Pictures\", \"id\": 5}, {\"nam...</td>\n",
       "      <td>...</td>\n",
       "      <td>148.0</td>\n",
       "      <td>[{\"iso_639_1\": \"fr\", \"name\": \"Fran\\u00e7ais\"},...</td>\n",
       "      <td>Released</td>\n",
       "      <td>A Plan No One Escapes</td>\n",
       "      <td>Spectre</td>\n",
       "      <td>6.3</td>\n",
       "      <td>4466</td>\n",
       "      <td>206647</td>\n",
       "      <td>[{\"cast_id\": 1, \"character\": \"James Bond\", \"cr...</td>\n",
       "      <td>[{\"credit_id\": \"54805967c3a36829b5002c41\", \"de...</td>\n",
       "    </tr>\n",
       "  </tbody>\n",
       "</table>\n",
       "<p>3 rows × 23 columns</p>\n",
       "</div>"
      ],
      "text/plain": [
       "      budget                                             genres  \\\n",
       "0  237000000  [{\"id\": 28, \"name\": \"Action\"}, {\"id\": 12, \"nam...   \n",
       "1  300000000  [{\"id\": 12, \"name\": \"Adventure\"}, {\"id\": 14, \"...   \n",
       "2  245000000  [{\"id\": 28, \"name\": \"Action\"}, {\"id\": 12, \"nam...   \n",
       "\n",
       "                                       homepage      id  \\\n",
       "0                   http://www.avatarmovie.com/   19995   \n",
       "1  http://disney.go.com/disneypictures/pirates/     285   \n",
       "2   http://www.sonypictures.com/movies/spectre/  206647   \n",
       "\n",
       "                                            keywords original_language  \\\n",
       "0  [{\"id\": 1463, \"name\": \"culture clash\"}, {\"id\":...                en   \n",
       "1  [{\"id\": 270, \"name\": \"ocean\"}, {\"id\": 726, \"na...                en   \n",
       "2  [{\"id\": 470, \"name\": \"spy\"}, {\"id\": 818, \"name...                en   \n",
       "\n",
       "                             original_title  \\\n",
       "0                                    Avatar   \n",
       "1  Pirates of the Caribbean: At World's End   \n",
       "2                                   Spectre   \n",
       "\n",
       "                                            overview  popularity  \\\n",
       "0  In the 22nd century, a paraplegic Marine is di...  150.437577   \n",
       "1  Captain Barbossa, long believed to be dead, ha...  139.082615   \n",
       "2  A cryptic message from Bond’s past sends him o...  107.376788   \n",
       "\n",
       "                                production_companies  ... runtime  \\\n",
       "0  [{\"name\": \"Ingenious Film Partners\", \"id\": 289...  ...   162.0   \n",
       "1  [{\"name\": \"Walt Disney Pictures\", \"id\": 2}, {\"...  ...   169.0   \n",
       "2  [{\"name\": \"Columbia Pictures\", \"id\": 5}, {\"nam...  ...   148.0   \n",
       "\n",
       "                                    spoken_languages    status  \\\n",
       "0  [{\"iso_639_1\": \"en\", \"name\": \"English\"}, {\"iso...  Released   \n",
       "1           [{\"iso_639_1\": \"en\", \"name\": \"English\"}]  Released   \n",
       "2  [{\"iso_639_1\": \"fr\", \"name\": \"Fran\\u00e7ais\"},...  Released   \n",
       "\n",
       "                                          tagline  \\\n",
       "0                     Enter the World of Pandora.   \n",
       "1  At the end of the world, the adventure begins.   \n",
       "2                           A Plan No One Escapes   \n",
       "\n",
       "                                      title vote_average vote_count movie_id  \\\n",
       "0                                    Avatar          7.2      11800    19995   \n",
       "1  Pirates of the Caribbean: At World's End          6.9       4500      285   \n",
       "2                                   Spectre          6.3       4466   206647   \n",
       "\n",
       "                                                cast  \\\n",
       "0  [{\"cast_id\": 242, \"character\": \"Jake Sully\", \"...   \n",
       "1  [{\"cast_id\": 4, \"character\": \"Captain Jack Spa...   \n",
       "2  [{\"cast_id\": 1, \"character\": \"James Bond\", \"cr...   \n",
       "\n",
       "                                                crew  \n",
       "0  [{\"credit_id\": \"52fe48009251416c750aca23\", \"de...  \n",
       "1  [{\"credit_id\": \"52fe4232c3a36847f800b579\", \"de...  \n",
       "2  [{\"credit_id\": \"54805967c3a36829b5002c41\", \"de...  \n",
       "\n",
       "[3 rows x 23 columns]"
      ]
     },
     "execution_count": 37,
     "metadata": {},
     "output_type": "execute_result"
    }
   ],
   "source": [
    "movies.head(3)\n",
    "# budget\n",
    "# homepage\n",
    "# id\n",
    "# original_language\n",
    "# original_title\n",
    "# popularity\n",
    "# production_comapny\n",
    "# production_countries\n",
    "# release-date"
   ]
  },
  {
   "cell_type": "code",
   "execution_count": 38,
   "metadata": {},
   "outputs": [],
   "source": [
    "movies = movies[['movie_id','title','overview','genres','keywords','cast','crew']]"
   ]
  },
  {
   "cell_type": "code",
   "execution_count": 39,
   "metadata": {},
   "outputs": [
    {
     "data": {
      "text/html": [
       "<div>\n",
       "<style scoped>\n",
       "    .dataframe tbody tr th:only-of-type {\n",
       "        vertical-align: middle;\n",
       "    }\n",
       "\n",
       "    .dataframe tbody tr th {\n",
       "        vertical-align: top;\n",
       "    }\n",
       "\n",
       "    .dataframe thead th {\n",
       "        text-align: right;\n",
       "    }\n",
       "</style>\n",
       "<table border=\"1\" class=\"dataframe\">\n",
       "  <thead>\n",
       "    <tr style=\"text-align: right;\">\n",
       "      <th></th>\n",
       "      <th>movie_id</th>\n",
       "      <th>title</th>\n",
       "      <th>overview</th>\n",
       "      <th>genres</th>\n",
       "      <th>keywords</th>\n",
       "      <th>cast</th>\n",
       "      <th>crew</th>\n",
       "    </tr>\n",
       "  </thead>\n",
       "  <tbody>\n",
       "    <tr>\n",
       "      <th>0</th>\n",
       "      <td>19995</td>\n",
       "      <td>Avatar</td>\n",
       "      <td>In the 22nd century, a paraplegic Marine is di...</td>\n",
       "      <td>[{\"id\": 28, \"name\": \"Action\"}, {\"id\": 12, \"nam...</td>\n",
       "      <td>[{\"id\": 1463, \"name\": \"culture clash\"}, {\"id\":...</td>\n",
       "      <td>[{\"cast_id\": 242, \"character\": \"Jake Sully\", \"...</td>\n",
       "      <td>[{\"credit_id\": \"52fe48009251416c750aca23\", \"de...</td>\n",
       "    </tr>\n",
       "    <tr>\n",
       "      <th>1</th>\n",
       "      <td>285</td>\n",
       "      <td>Pirates of the Caribbean: At World's End</td>\n",
       "      <td>Captain Barbossa, long believed to be dead, ha...</td>\n",
       "      <td>[{\"id\": 12, \"name\": \"Adventure\"}, {\"id\": 14, \"...</td>\n",
       "      <td>[{\"id\": 270, \"name\": \"ocean\"}, {\"id\": 726, \"na...</td>\n",
       "      <td>[{\"cast_id\": 4, \"character\": \"Captain Jack Spa...</td>\n",
       "      <td>[{\"credit_id\": \"52fe4232c3a36847f800b579\", \"de...</td>\n",
       "    </tr>\n",
       "    <tr>\n",
       "      <th>2</th>\n",
       "      <td>206647</td>\n",
       "      <td>Spectre</td>\n",
       "      <td>A cryptic message from Bond’s past sends him o...</td>\n",
       "      <td>[{\"id\": 28, \"name\": \"Action\"}, {\"id\": 12, \"nam...</td>\n",
       "      <td>[{\"id\": 470, \"name\": \"spy\"}, {\"id\": 818, \"name...</td>\n",
       "      <td>[{\"cast_id\": 1, \"character\": \"James Bond\", \"cr...</td>\n",
       "      <td>[{\"credit_id\": \"54805967c3a36829b5002c41\", \"de...</td>\n",
       "    </tr>\n",
       "  </tbody>\n",
       "</table>\n",
       "</div>"
      ],
      "text/plain": [
       "   movie_id                                     title  \\\n",
       "0     19995                                    Avatar   \n",
       "1       285  Pirates of the Caribbean: At World's End   \n",
       "2    206647                                   Spectre   \n",
       "\n",
       "                                            overview  \\\n",
       "0  In the 22nd century, a paraplegic Marine is di...   \n",
       "1  Captain Barbossa, long believed to be dead, ha...   \n",
       "2  A cryptic message from Bond’s past sends him o...   \n",
       "\n",
       "                                              genres  \\\n",
       "0  [{\"id\": 28, \"name\": \"Action\"}, {\"id\": 12, \"nam...   \n",
       "1  [{\"id\": 12, \"name\": \"Adventure\"}, {\"id\": 14, \"...   \n",
       "2  [{\"id\": 28, \"name\": \"Action\"}, {\"id\": 12, \"nam...   \n",
       "\n",
       "                                            keywords  \\\n",
       "0  [{\"id\": 1463, \"name\": \"culture clash\"}, {\"id\":...   \n",
       "1  [{\"id\": 270, \"name\": \"ocean\"}, {\"id\": 726, \"na...   \n",
       "2  [{\"id\": 470, \"name\": \"spy\"}, {\"id\": 818, \"name...   \n",
       "\n",
       "                                                cast  \\\n",
       "0  [{\"cast_id\": 242, \"character\": \"Jake Sully\", \"...   \n",
       "1  [{\"cast_id\": 4, \"character\": \"Captain Jack Spa...   \n",
       "2  [{\"cast_id\": 1, \"character\": \"James Bond\", \"cr...   \n",
       "\n",
       "                                                crew  \n",
       "0  [{\"credit_id\": \"52fe48009251416c750aca23\", \"de...  \n",
       "1  [{\"credit_id\": \"52fe4232c3a36847f800b579\", \"de...  \n",
       "2  [{\"credit_id\": \"54805967c3a36829b5002c41\", \"de...  "
      ]
     },
     "execution_count": 39,
     "metadata": {},
     "output_type": "execute_result"
    }
   ],
   "source": [
    "movies.head(3)"
   ]
  },
  {
   "cell_type": "code",
   "execution_count": 40,
   "metadata": {},
   "outputs": [],
   "source": [
    "import ast\n",
    "\n",
    "def convert(text):\n",
    "    L = []\n",
    "    for i in ast.literal_eval(text):\n",
    "        L.append(i['name']) \n",
    "    return L "
   ]
  },
  {
   "cell_type": "code",
   "execution_count": 41,
   "metadata": {},
   "outputs": [],
   "source": [
    "movies.dropna(inplace=True)"
   ]
  },
  {
   "cell_type": "code",
   "execution_count": 42,
   "metadata": {},
   "outputs": [
    {
     "data": {
      "text/html": [
       "<div>\n",
       "<style scoped>\n",
       "    .dataframe tbody tr th:only-of-type {\n",
       "        vertical-align: middle;\n",
       "    }\n",
       "\n",
       "    .dataframe tbody tr th {\n",
       "        vertical-align: top;\n",
       "    }\n",
       "\n",
       "    .dataframe thead th {\n",
       "        text-align: right;\n",
       "    }\n",
       "</style>\n",
       "<table border=\"1\" class=\"dataframe\">\n",
       "  <thead>\n",
       "    <tr style=\"text-align: right;\">\n",
       "      <th></th>\n",
       "      <th>movie_id</th>\n",
       "      <th>title</th>\n",
       "      <th>overview</th>\n",
       "      <th>genres</th>\n",
       "      <th>keywords</th>\n",
       "      <th>cast</th>\n",
       "      <th>crew</th>\n",
       "    </tr>\n",
       "  </thead>\n",
       "  <tbody>\n",
       "    <tr>\n",
       "      <th>0</th>\n",
       "      <td>19995</td>\n",
       "      <td>Avatar</td>\n",
       "      <td>In the 22nd century, a paraplegic Marine is di...</td>\n",
       "      <td>[Action, Adventure, Fantasy, Science Fiction]</td>\n",
       "      <td>[{\"id\": 1463, \"name\": \"culture clash\"}, {\"id\":...</td>\n",
       "      <td>[{\"cast_id\": 242, \"character\": \"Jake Sully\", \"...</td>\n",
       "      <td>[{\"credit_id\": \"52fe48009251416c750aca23\", \"de...</td>\n",
       "    </tr>\n",
       "    <tr>\n",
       "      <th>1</th>\n",
       "      <td>285</td>\n",
       "      <td>Pirates of the Caribbean: At World's End</td>\n",
       "      <td>Captain Barbossa, long believed to be dead, ha...</td>\n",
       "      <td>[Adventure, Fantasy, Action]</td>\n",
       "      <td>[{\"id\": 270, \"name\": \"ocean\"}, {\"id\": 726, \"na...</td>\n",
       "      <td>[{\"cast_id\": 4, \"character\": \"Captain Jack Spa...</td>\n",
       "      <td>[{\"credit_id\": \"52fe4232c3a36847f800b579\", \"de...</td>\n",
       "    </tr>\n",
       "    <tr>\n",
       "      <th>2</th>\n",
       "      <td>206647</td>\n",
       "      <td>Spectre</td>\n",
       "      <td>A cryptic message from Bond’s past sends him o...</td>\n",
       "      <td>[Action, Adventure, Crime]</td>\n",
       "      <td>[{\"id\": 470, \"name\": \"spy\"}, {\"id\": 818, \"name...</td>\n",
       "      <td>[{\"cast_id\": 1, \"character\": \"James Bond\", \"cr...</td>\n",
       "      <td>[{\"credit_id\": \"54805967c3a36829b5002c41\", \"de...</td>\n",
       "    </tr>\n",
       "  </tbody>\n",
       "</table>\n",
       "</div>"
      ],
      "text/plain": [
       "   movie_id                                     title  \\\n",
       "0     19995                                    Avatar   \n",
       "1       285  Pirates of the Caribbean: At World's End   \n",
       "2    206647                                   Spectre   \n",
       "\n",
       "                                            overview  \\\n",
       "0  In the 22nd century, a paraplegic Marine is di...   \n",
       "1  Captain Barbossa, long believed to be dead, ha...   \n",
       "2  A cryptic message from Bond’s past sends him o...   \n",
       "\n",
       "                                          genres  \\\n",
       "0  [Action, Adventure, Fantasy, Science Fiction]   \n",
       "1                   [Adventure, Fantasy, Action]   \n",
       "2                     [Action, Adventure, Crime]   \n",
       "\n",
       "                                            keywords  \\\n",
       "0  [{\"id\": 1463, \"name\": \"culture clash\"}, {\"id\":...   \n",
       "1  [{\"id\": 270, \"name\": \"ocean\"}, {\"id\": 726, \"na...   \n",
       "2  [{\"id\": 470, \"name\": \"spy\"}, {\"id\": 818, \"name...   \n",
       "\n",
       "                                                cast  \\\n",
       "0  [{\"cast_id\": 242, \"character\": \"Jake Sully\", \"...   \n",
       "1  [{\"cast_id\": 4, \"character\": \"Captain Jack Spa...   \n",
       "2  [{\"cast_id\": 1, \"character\": \"James Bond\", \"cr...   \n",
       "\n",
       "                                                crew  \n",
       "0  [{\"credit_id\": \"52fe48009251416c750aca23\", \"de...  \n",
       "1  [{\"credit_id\": \"52fe4232c3a36847f800b579\", \"de...  \n",
       "2  [{\"credit_id\": \"54805967c3a36829b5002c41\", \"de...  "
      ]
     },
     "execution_count": 42,
     "metadata": {},
     "output_type": "execute_result"
    }
   ],
   "source": [
    "movies['genres'] = movies['genres'].apply(convert)\n",
    "movies.head(3)"
   ]
  },
  {
   "cell_type": "code",
   "execution_count": 43,
   "metadata": {},
   "outputs": [
    {
     "data": {
      "text/html": [
       "<div>\n",
       "<style scoped>\n",
       "    .dataframe tbody tr th:only-of-type {\n",
       "        vertical-align: middle;\n",
       "    }\n",
       "\n",
       "    .dataframe tbody tr th {\n",
       "        vertical-align: top;\n",
       "    }\n",
       "\n",
       "    .dataframe thead th {\n",
       "        text-align: right;\n",
       "    }\n",
       "</style>\n",
       "<table border=\"1\" class=\"dataframe\">\n",
       "  <thead>\n",
       "    <tr style=\"text-align: right;\">\n",
       "      <th></th>\n",
       "      <th>movie_id</th>\n",
       "      <th>title</th>\n",
       "      <th>overview</th>\n",
       "      <th>genres</th>\n",
       "      <th>keywords</th>\n",
       "      <th>cast</th>\n",
       "      <th>crew</th>\n",
       "    </tr>\n",
       "  </thead>\n",
       "  <tbody>\n",
       "    <tr>\n",
       "      <th>0</th>\n",
       "      <td>19995</td>\n",
       "      <td>Avatar</td>\n",
       "      <td>In the 22nd century, a paraplegic Marine is di...</td>\n",
       "      <td>[Action, Adventure, Fantasy, Science Fiction]</td>\n",
       "      <td>[culture clash, future, space war, space colon...</td>\n",
       "      <td>[{\"cast_id\": 242, \"character\": \"Jake Sully\", \"...</td>\n",
       "      <td>[{\"credit_id\": \"52fe48009251416c750aca23\", \"de...</td>\n",
       "    </tr>\n",
       "    <tr>\n",
       "      <th>1</th>\n",
       "      <td>285</td>\n",
       "      <td>Pirates of the Caribbean: At World's End</td>\n",
       "      <td>Captain Barbossa, long believed to be dead, ha...</td>\n",
       "      <td>[Adventure, Fantasy, Action]</td>\n",
       "      <td>[ocean, drug abuse, exotic island, east india ...</td>\n",
       "      <td>[{\"cast_id\": 4, \"character\": \"Captain Jack Spa...</td>\n",
       "      <td>[{\"credit_id\": \"52fe4232c3a36847f800b579\", \"de...</td>\n",
       "    </tr>\n",
       "    <tr>\n",
       "      <th>2</th>\n",
       "      <td>206647</td>\n",
       "      <td>Spectre</td>\n",
       "      <td>A cryptic message from Bond’s past sends him o...</td>\n",
       "      <td>[Action, Adventure, Crime]</td>\n",
       "      <td>[spy, based on novel, secret agent, sequel, mi...</td>\n",
       "      <td>[{\"cast_id\": 1, \"character\": \"James Bond\", \"cr...</td>\n",
       "      <td>[{\"credit_id\": \"54805967c3a36829b5002c41\", \"de...</td>\n",
       "    </tr>\n",
       "  </tbody>\n",
       "</table>\n",
       "</div>"
      ],
      "text/plain": [
       "   movie_id                                     title  \\\n",
       "0     19995                                    Avatar   \n",
       "1       285  Pirates of the Caribbean: At World's End   \n",
       "2    206647                                   Spectre   \n",
       "\n",
       "                                            overview  \\\n",
       "0  In the 22nd century, a paraplegic Marine is di...   \n",
       "1  Captain Barbossa, long believed to be dead, ha...   \n",
       "2  A cryptic message from Bond’s past sends him o...   \n",
       "\n",
       "                                          genres  \\\n",
       "0  [Action, Adventure, Fantasy, Science Fiction]   \n",
       "1                   [Adventure, Fantasy, Action]   \n",
       "2                     [Action, Adventure, Crime]   \n",
       "\n",
       "                                            keywords  \\\n",
       "0  [culture clash, future, space war, space colon...   \n",
       "1  [ocean, drug abuse, exotic island, east india ...   \n",
       "2  [spy, based on novel, secret agent, sequel, mi...   \n",
       "\n",
       "                                                cast  \\\n",
       "0  [{\"cast_id\": 242, \"character\": \"Jake Sully\", \"...   \n",
       "1  [{\"cast_id\": 4, \"character\": \"Captain Jack Spa...   \n",
       "2  [{\"cast_id\": 1, \"character\": \"James Bond\", \"cr...   \n",
       "\n",
       "                                                crew  \n",
       "0  [{\"credit_id\": \"52fe48009251416c750aca23\", \"de...  \n",
       "1  [{\"credit_id\": \"52fe4232c3a36847f800b579\", \"de...  \n",
       "2  [{\"credit_id\": \"54805967c3a36829b5002c41\", \"de...  "
      ]
     },
     "execution_count": 43,
     "metadata": {},
     "output_type": "execute_result"
    }
   ],
   "source": [
    "movies['keywords'] = movies['keywords'].apply(convert)\n",
    "movies.head(3)"
   ]
  },
  {
   "cell_type": "code",
   "execution_count": 44,
   "metadata": {},
   "outputs": [
    {
     "data": {
      "text/plain": [
       "[{'id': 28, 'name': 'Action'},\n",
       " {'id': 12, 'name': 'Adventure'},\n",
       " {'id': 14, 'name': 'Fantasy'},\n",
       " {'id': 878, 'name': 'Science Fiction'}]"
      ]
     },
     "execution_count": 44,
     "metadata": {},
     "output_type": "execute_result"
    }
   ],
   "source": [
    "ast.literal_eval('[{\"id\": 28, \"name\": \"Action\"}, {\"id\": 12, \"name\": \"Adventure\"}, {\"id\": 14, \"name\": \"Fantasy\"}, {\"id\": 878, \"name\": \"Science Fiction\"}]')"
   ]
  },
  {
   "cell_type": "code",
   "execution_count": 45,
   "metadata": {},
   "outputs": [],
   "source": [
    "def convert3(text):\n",
    "    L = []\n",
    "    counter = 0\n",
    "    for i in ast.literal_eval(text):\n",
    "        if counter < 3:\n",
    "            L.append(i['name'])\n",
    "        counter+=1\n",
    "    return L "
   ]
  },
  {
   "cell_type": "code",
   "execution_count": 46,
   "metadata": {},
   "outputs": [
    {
     "data": {
      "text/html": [
       "<div>\n",
       "<style scoped>\n",
       "    .dataframe tbody tr th:only-of-type {\n",
       "        vertical-align: middle;\n",
       "    }\n",
       "\n",
       "    .dataframe tbody tr th {\n",
       "        vertical-align: top;\n",
       "    }\n",
       "\n",
       "    .dataframe thead th {\n",
       "        text-align: right;\n",
       "    }\n",
       "</style>\n",
       "<table border=\"1\" class=\"dataframe\">\n",
       "  <thead>\n",
       "    <tr style=\"text-align: right;\">\n",
       "      <th></th>\n",
       "      <th>movie_id</th>\n",
       "      <th>title</th>\n",
       "      <th>overview</th>\n",
       "      <th>genres</th>\n",
       "      <th>keywords</th>\n",
       "      <th>cast</th>\n",
       "      <th>crew</th>\n",
       "    </tr>\n",
       "  </thead>\n",
       "  <tbody>\n",
       "    <tr>\n",
       "      <th>0</th>\n",
       "      <td>19995</td>\n",
       "      <td>Avatar</td>\n",
       "      <td>In the 22nd century, a paraplegic Marine is di...</td>\n",
       "      <td>[Action, Adventure, Fantasy, Science Fiction]</td>\n",
       "      <td>[culture clash, future, space war, space colon...</td>\n",
       "      <td>[Sam Worthington, Zoe Saldana, Sigourney Weave...</td>\n",
       "      <td>[{\"credit_id\": \"52fe48009251416c750aca23\", \"de...</td>\n",
       "    </tr>\n",
       "    <tr>\n",
       "      <th>1</th>\n",
       "      <td>285</td>\n",
       "      <td>Pirates of the Caribbean: At World's End</td>\n",
       "      <td>Captain Barbossa, long believed to be dead, ha...</td>\n",
       "      <td>[Adventure, Fantasy, Action]</td>\n",
       "      <td>[ocean, drug abuse, exotic island, east india ...</td>\n",
       "      <td>[Johnny Depp, Orlando Bloom, Keira Knightley, ...</td>\n",
       "      <td>[{\"credit_id\": \"52fe4232c3a36847f800b579\", \"de...</td>\n",
       "    </tr>\n",
       "    <tr>\n",
       "      <th>2</th>\n",
       "      <td>206647</td>\n",
       "      <td>Spectre</td>\n",
       "      <td>A cryptic message from Bond’s past sends him o...</td>\n",
       "      <td>[Action, Adventure, Crime]</td>\n",
       "      <td>[spy, based on novel, secret agent, sequel, mi...</td>\n",
       "      <td>[Daniel Craig, Christoph Waltz, Léa Seydoux, R...</td>\n",
       "      <td>[{\"credit_id\": \"54805967c3a36829b5002c41\", \"de...</td>\n",
       "    </tr>\n",
       "    <tr>\n",
       "      <th>3</th>\n",
       "      <td>49026</td>\n",
       "      <td>The Dark Knight Rises</td>\n",
       "      <td>Following the death of District Attorney Harve...</td>\n",
       "      <td>[Action, Crime, Drama, Thriller]</td>\n",
       "      <td>[dc comics, crime fighter, terrorist, secret i...</td>\n",
       "      <td>[Christian Bale, Michael Caine, Gary Oldman, A...</td>\n",
       "      <td>[{\"credit_id\": \"52fe4781c3a36847f81398c3\", \"de...</td>\n",
       "    </tr>\n",
       "    <tr>\n",
       "      <th>4</th>\n",
       "      <td>49529</td>\n",
       "      <td>John Carter</td>\n",
       "      <td>John Carter is a war-weary, former military ca...</td>\n",
       "      <td>[Action, Adventure, Science Fiction]</td>\n",
       "      <td>[based on novel, mars, medallion, space travel...</td>\n",
       "      <td>[Taylor Kitsch, Lynn Collins, Samantha Morton,...</td>\n",
       "      <td>[{\"credit_id\": \"52fe479ac3a36847f813eaa3\", \"de...</td>\n",
       "    </tr>\n",
       "  </tbody>\n",
       "</table>\n",
       "</div>"
      ],
      "text/plain": [
       "   movie_id                                     title  \\\n",
       "0     19995                                    Avatar   \n",
       "1       285  Pirates of the Caribbean: At World's End   \n",
       "2    206647                                   Spectre   \n",
       "3     49026                     The Dark Knight Rises   \n",
       "4     49529                               John Carter   \n",
       "\n",
       "                                            overview  \\\n",
       "0  In the 22nd century, a paraplegic Marine is di...   \n",
       "1  Captain Barbossa, long believed to be dead, ha...   \n",
       "2  A cryptic message from Bond’s past sends him o...   \n",
       "3  Following the death of District Attorney Harve...   \n",
       "4  John Carter is a war-weary, former military ca...   \n",
       "\n",
       "                                          genres  \\\n",
       "0  [Action, Adventure, Fantasy, Science Fiction]   \n",
       "1                   [Adventure, Fantasy, Action]   \n",
       "2                     [Action, Adventure, Crime]   \n",
       "3               [Action, Crime, Drama, Thriller]   \n",
       "4           [Action, Adventure, Science Fiction]   \n",
       "\n",
       "                                            keywords  \\\n",
       "0  [culture clash, future, space war, space colon...   \n",
       "1  [ocean, drug abuse, exotic island, east india ...   \n",
       "2  [spy, based on novel, secret agent, sequel, mi...   \n",
       "3  [dc comics, crime fighter, terrorist, secret i...   \n",
       "4  [based on novel, mars, medallion, space travel...   \n",
       "\n",
       "                                                cast  \\\n",
       "0  [Sam Worthington, Zoe Saldana, Sigourney Weave...   \n",
       "1  [Johnny Depp, Orlando Bloom, Keira Knightley, ...   \n",
       "2  [Daniel Craig, Christoph Waltz, Léa Seydoux, R...   \n",
       "3  [Christian Bale, Michael Caine, Gary Oldman, A...   \n",
       "4  [Taylor Kitsch, Lynn Collins, Samantha Morton,...   \n",
       "\n",
       "                                                crew  \n",
       "0  [{\"credit_id\": \"52fe48009251416c750aca23\", \"de...  \n",
       "1  [{\"credit_id\": \"52fe4232c3a36847f800b579\", \"de...  \n",
       "2  [{\"credit_id\": \"54805967c3a36829b5002c41\", \"de...  \n",
       "3  [{\"credit_id\": \"52fe4781c3a36847f81398c3\", \"de...  \n",
       "4  [{\"credit_id\": \"52fe479ac3a36847f813eaa3\", \"de...  "
      ]
     },
     "execution_count": 46,
     "metadata": {},
     "output_type": "execute_result"
    }
   ],
   "source": [
    "movies['cast'] = movies['cast'].apply(convert)\n",
    "movies.head()"
   ]
  },
  {
   "cell_type": "code",
   "execution_count": 47,
   "metadata": {},
   "outputs": [],
   "source": [
    "movies['cast'] = movies['cast'].apply(lambda x:x[0:3])"
   ]
  },
  {
   "cell_type": "code",
   "execution_count": 48,
   "metadata": {},
   "outputs": [],
   "source": [
    "def fetch_director(text):\n",
    "    L = []\n",
    "    for i in ast.literal_eval(text):\n",
    "        if i['job'] == 'Director':\n",
    "            L.append(i['name'])\n",
    "    return L "
   ]
  },
  {
   "cell_type": "code",
   "execution_count": 49,
   "metadata": {},
   "outputs": [],
   "source": [
    "movies['crew'] = movies['crew'].apply(fetch_director)"
   ]
  },
  {
   "cell_type": "code",
   "execution_count": 50,
   "metadata": {},
   "outputs": [
    {
     "data": {
      "text/html": [
       "<div>\n",
       "<style scoped>\n",
       "    .dataframe tbody tr th:only-of-type {\n",
       "        vertical-align: middle;\n",
       "    }\n",
       "\n",
       "    .dataframe tbody tr th {\n",
       "        vertical-align: top;\n",
       "    }\n",
       "\n",
       "    .dataframe thead th {\n",
       "        text-align: right;\n",
       "    }\n",
       "</style>\n",
       "<table border=\"1\" class=\"dataframe\">\n",
       "  <thead>\n",
       "    <tr style=\"text-align: right;\">\n",
       "      <th></th>\n",
       "      <th>movie_id</th>\n",
       "      <th>title</th>\n",
       "      <th>overview</th>\n",
       "      <th>genres</th>\n",
       "      <th>keywords</th>\n",
       "      <th>cast</th>\n",
       "      <th>crew</th>\n",
       "    </tr>\n",
       "  </thead>\n",
       "  <tbody>\n",
       "    <tr>\n",
       "      <th>3078</th>\n",
       "      <td>25520</td>\n",
       "      <td>The House of Mirth</td>\n",
       "      <td>A woman risks losing her chance of happiness w...</td>\n",
       "      <td>[Drama, Romance]</td>\n",
       "      <td>[]</td>\n",
       "      <td>[Gillian Anderson, Dan Aykroyd, Eleanor Bron]</td>\n",
       "      <td>[Terence Davies]</td>\n",
       "    </tr>\n",
       "    <tr>\n",
       "      <th>410</th>\n",
       "      <td>62764</td>\n",
       "      <td>Mirror Mirror</td>\n",
       "      <td>After she spends all her money, an evil enchan...</td>\n",
       "      <td>[Adventure, Fantasy, Drama, Comedy, Science Fi...</td>\n",
       "      <td>[attempted murder, fairy tale, black magic, co...</td>\n",
       "      <td>[Julia Roberts, Lily Collins, Armie Hammer]</td>\n",
       "      <td>[Tarsem Singh]</td>\n",
       "    </tr>\n",
       "    <tr>\n",
       "      <th>3995</th>\n",
       "      <td>11072</td>\n",
       "      <td>Blazing Saddles</td>\n",
       "      <td>A town – where everyone seems to be named John...</td>\n",
       "      <td>[Western, Comedy]</td>\n",
       "      <td>[gun, saloon, governor, marching band, comedy,...</td>\n",
       "      <td>[Cleavon Little, Gene Wilder, Harvey Korman]</td>\n",
       "      <td>[Mel Brooks]</td>\n",
       "    </tr>\n",
       "  </tbody>\n",
       "</table>\n",
       "</div>"
      ],
      "text/plain": [
       "      movie_id               title  \\\n",
       "3078     25520  The House of Mirth   \n",
       "410      62764       Mirror Mirror   \n",
       "3995     11072     Blazing Saddles   \n",
       "\n",
       "                                               overview  \\\n",
       "3078  A woman risks losing her chance of happiness w...   \n",
       "410   After she spends all her money, an evil enchan...   \n",
       "3995  A town – where everyone seems to be named John...   \n",
       "\n",
       "                                                 genres  \\\n",
       "3078                                   [Drama, Romance]   \n",
       "410   [Adventure, Fantasy, Drama, Comedy, Science Fi...   \n",
       "3995                                  [Western, Comedy]   \n",
       "\n",
       "                                               keywords  \\\n",
       "3078                                                 []   \n",
       "410   [attempted murder, fairy tale, black magic, co...   \n",
       "3995  [gun, saloon, governor, marching band, comedy,...   \n",
       "\n",
       "                                               cast              crew  \n",
       "3078  [Gillian Anderson, Dan Aykroyd, Eleanor Bron]  [Terence Davies]  \n",
       "410     [Julia Roberts, Lily Collins, Armie Hammer]    [Tarsem Singh]  \n",
       "3995   [Cleavon Little, Gene Wilder, Harvey Korman]      [Mel Brooks]  "
      ]
     },
     "execution_count": 50,
     "metadata": {},
     "output_type": "execute_result"
    }
   ],
   "source": [
    "movies.sample(3)"
   ]
  },
  {
   "cell_type": "code",
   "execution_count": 51,
   "metadata": {},
   "outputs": [],
   "source": [
    "def collapse(L):\n",
    "    L1 = []\n",
    "    for i in L:\n",
    "        L1.append(i.replace(\" \",\"\"))\n",
    "    return L1"
   ]
  },
  {
   "cell_type": "code",
   "execution_count": 52,
   "metadata": {},
   "outputs": [],
   "source": [
    "movies['cast'] = movies['cast'].apply(collapse)\n",
    "movies['crew'] = movies['crew'].apply(collapse)\n",
    "movies['genres'] = movies['genres'].apply(collapse)\n",
    "movies['keywords'] = movies['keywords'].apply(collapse)"
   ]
  },
  {
   "cell_type": "code",
   "execution_count": 53,
   "metadata": {},
   "outputs": [
    {
     "data": {
      "text/html": [
       "<div>\n",
       "<style scoped>\n",
       "    .dataframe tbody tr th:only-of-type {\n",
       "        vertical-align: middle;\n",
       "    }\n",
       "\n",
       "    .dataframe tbody tr th {\n",
       "        vertical-align: top;\n",
       "    }\n",
       "\n",
       "    .dataframe thead th {\n",
       "        text-align: right;\n",
       "    }\n",
       "</style>\n",
       "<table border=\"1\" class=\"dataframe\">\n",
       "  <thead>\n",
       "    <tr style=\"text-align: right;\">\n",
       "      <th></th>\n",
       "      <th>movie_id</th>\n",
       "      <th>title</th>\n",
       "      <th>overview</th>\n",
       "      <th>genres</th>\n",
       "      <th>keywords</th>\n",
       "      <th>cast</th>\n",
       "      <th>crew</th>\n",
       "    </tr>\n",
       "  </thead>\n",
       "  <tbody>\n",
       "    <tr>\n",
       "      <th>0</th>\n",
       "      <td>19995</td>\n",
       "      <td>Avatar</td>\n",
       "      <td>In the 22nd century, a paraplegic Marine is di...</td>\n",
       "      <td>[Action, Adventure, Fantasy, ScienceFiction]</td>\n",
       "      <td>[cultureclash, future, spacewar, spacecolony, ...</td>\n",
       "      <td>[SamWorthington, ZoeSaldana, SigourneyWeaver]</td>\n",
       "      <td>[JamesCameron]</td>\n",
       "    </tr>\n",
       "    <tr>\n",
       "      <th>1</th>\n",
       "      <td>285</td>\n",
       "      <td>Pirates of the Caribbean: At World's End</td>\n",
       "      <td>Captain Barbossa, long believed to be dead, ha...</td>\n",
       "      <td>[Adventure, Fantasy, Action]</td>\n",
       "      <td>[ocean, drugabuse, exoticisland, eastindiatrad...</td>\n",
       "      <td>[JohnnyDepp, OrlandoBloom, KeiraKnightley]</td>\n",
       "      <td>[GoreVerbinski]</td>\n",
       "    </tr>\n",
       "    <tr>\n",
       "      <th>2</th>\n",
       "      <td>206647</td>\n",
       "      <td>Spectre</td>\n",
       "      <td>A cryptic message from Bond’s past sends him o...</td>\n",
       "      <td>[Action, Adventure, Crime]</td>\n",
       "      <td>[spy, basedonnovel, secretagent, sequel, mi6, ...</td>\n",
       "      <td>[DanielCraig, ChristophWaltz, LéaSeydoux]</td>\n",
       "      <td>[SamMendes]</td>\n",
       "    </tr>\n",
       "  </tbody>\n",
       "</table>\n",
       "</div>"
      ],
      "text/plain": [
       "   movie_id                                     title  \\\n",
       "0     19995                                    Avatar   \n",
       "1       285  Pirates of the Caribbean: At World's End   \n",
       "2    206647                                   Spectre   \n",
       "\n",
       "                                            overview  \\\n",
       "0  In the 22nd century, a paraplegic Marine is di...   \n",
       "1  Captain Barbossa, long believed to be dead, ha...   \n",
       "2  A cryptic message from Bond’s past sends him o...   \n",
       "\n",
       "                                         genres  \\\n",
       "0  [Action, Adventure, Fantasy, ScienceFiction]   \n",
       "1                  [Adventure, Fantasy, Action]   \n",
       "2                    [Action, Adventure, Crime]   \n",
       "\n",
       "                                            keywords  \\\n",
       "0  [cultureclash, future, spacewar, spacecolony, ...   \n",
       "1  [ocean, drugabuse, exoticisland, eastindiatrad...   \n",
       "2  [spy, basedonnovel, secretagent, sequel, mi6, ...   \n",
       "\n",
       "                                            cast             crew  \n",
       "0  [SamWorthington, ZoeSaldana, SigourneyWeaver]   [JamesCameron]  \n",
       "1     [JohnnyDepp, OrlandoBloom, KeiraKnightley]  [GoreVerbinski]  \n",
       "2      [DanielCraig, ChristophWaltz, LéaSeydoux]      [SamMendes]  "
      ]
     },
     "execution_count": 53,
     "metadata": {},
     "output_type": "execute_result"
    }
   ],
   "source": [
    "movies.head(3)"
   ]
  },
  {
   "cell_type": "code",
   "execution_count": 54,
   "metadata": {},
   "outputs": [],
   "source": [
    "movies['overview'] = movies['overview'].apply(lambda x:x.split())"
   ]
  },
  {
   "cell_type": "code",
   "execution_count": 55,
   "metadata": {},
   "outputs": [],
   "source": [
    "movies['tags'] = movies['overview'] + movies['genres'] + movies['keywords'] + movies['cast'] + movies['crew']"
   ]
  },
  {
   "cell_type": "code",
   "execution_count": 56,
   "metadata": {},
   "outputs": [],
   "source": [
    "new = movies.drop(columns=['overview','genres','keywords','cast','crew'])"
   ]
  },
  {
   "cell_type": "code",
   "execution_count": 57,
   "metadata": {},
   "outputs": [
    {
     "data": {
      "text/html": [
       "<div>\n",
       "<style scoped>\n",
       "    .dataframe tbody tr th:only-of-type {\n",
       "        vertical-align: middle;\n",
       "    }\n",
       "\n",
       "    .dataframe tbody tr th {\n",
       "        vertical-align: top;\n",
       "    }\n",
       "\n",
       "    .dataframe thead th {\n",
       "        text-align: right;\n",
       "    }\n",
       "</style>\n",
       "<table border=\"1\" class=\"dataframe\">\n",
       "  <thead>\n",
       "    <tr style=\"text-align: right;\">\n",
       "      <th></th>\n",
       "      <th>movie_id</th>\n",
       "      <th>title</th>\n",
       "      <th>tags</th>\n",
       "    </tr>\n",
       "  </thead>\n",
       "  <tbody>\n",
       "    <tr>\n",
       "      <th>0</th>\n",
       "      <td>19995</td>\n",
       "      <td>Avatar</td>\n",
       "      <td>In the 22nd century, a paraplegic Marine is di...</td>\n",
       "    </tr>\n",
       "    <tr>\n",
       "      <th>1</th>\n",
       "      <td>285</td>\n",
       "      <td>Pirates of the Caribbean: At World's End</td>\n",
       "      <td>Captain Barbossa, long believed to be dead, ha...</td>\n",
       "    </tr>\n",
       "    <tr>\n",
       "      <th>2</th>\n",
       "      <td>206647</td>\n",
       "      <td>Spectre</td>\n",
       "      <td>A cryptic message from Bond’s past sends him o...</td>\n",
       "    </tr>\n",
       "    <tr>\n",
       "      <th>3</th>\n",
       "      <td>49026</td>\n",
       "      <td>The Dark Knight Rises</td>\n",
       "      <td>Following the death of District Attorney Harve...</td>\n",
       "    </tr>\n",
       "    <tr>\n",
       "      <th>4</th>\n",
       "      <td>49529</td>\n",
       "      <td>John Carter</td>\n",
       "      <td>John Carter is a war-weary, former military ca...</td>\n",
       "    </tr>\n",
       "  </tbody>\n",
       "</table>\n",
       "</div>"
      ],
      "text/plain": [
       "   movie_id                                     title  \\\n",
       "0     19995                                    Avatar   \n",
       "1       285  Pirates of the Caribbean: At World's End   \n",
       "2    206647                                   Spectre   \n",
       "3     49026                     The Dark Knight Rises   \n",
       "4     49529                               John Carter   \n",
       "\n",
       "                                                tags  \n",
       "0  In the 22nd century, a paraplegic Marine is di...  \n",
       "1  Captain Barbossa, long believed to be dead, ha...  \n",
       "2  A cryptic message from Bond’s past sends him o...  \n",
       "3  Following the death of District Attorney Harve...  \n",
       "4  John Carter is a war-weary, former military ca...  "
      ]
     },
     "execution_count": 57,
     "metadata": {},
     "output_type": "execute_result"
    }
   ],
   "source": [
    "new['tags'] = new['tags'].apply(lambda x: \" \".join(x))\n",
    "new.head()"
   ]
  },
  {
   "cell_type": "markdown",
   "metadata": {},
   "source": [
    "### Vetorização e Normalização"
   ]
  },
  {
   "cell_type": "code",
   "execution_count": 58,
   "metadata": {},
   "outputs": [],
   "source": [
    "import pandas as pd\n",
    "from sklearn.feature_extraction.text import TfidfVectorizer\n",
    "from sklearn.decomposition import PCA\n",
    "from sklearn.preprocessing import StandardScaler\n",
    "from sklearn.cluster import MiniBatchKMeans\n",
    "import matplotlib.pyplot as plt\n",
    "\n",
    "# Função para combinar as características relevantes de cada filme em uma única string\n",
    "def combine_features(row):\n",
    "    return f\"{row['genres']} {row['keywords']} {row['cast']} {row['crew']} {row['overview']}\"\n",
    "\n",
    "# Supondo que o DataFrame 'movies' já esteja carregado com os dados dos filmes\n",
    "movies['combined_features'] = movies.apply(combine_features, axis=1)\n",
    "\n",
    "# Vetorização TF-IDF\n",
    "vectorizer = TfidfVectorizer(stop_words='english')\n",
    "tfidf_matrix = vectorizer.fit_transform(movies['combined_features'])"
   ]
  },
  {
   "cell_type": "code",
   "execution_count": 59,
   "metadata": {},
   "outputs": [
    {
     "data": {
      "text/plain": [
       "35526"
      ]
     },
     "execution_count": 59,
     "metadata": {},
     "output_type": "execute_result"
    }
   ],
   "source": [
    "tfidf_matrix.shape[1]"
   ]
  },
  {
   "cell_type": "code",
   "execution_count": 60,
   "metadata": {},
   "outputs": [],
   "source": [
    "# Normalização dos Dados (StandardScaler)\n",
    "scaler = StandardScaler(with_mean=False)  # Evitar erro com matriz esparsa\n",
    "tfidf_normalized = scaler.fit_transform(tfidf_matrix)\n",
    "\n",
    "# Redução de Dimensionalidade com PCA\n",
    "n_components = 4000  # Ajuste para o número de dimensões desejadas\n",
    "pca = PCA(n_components=n_components)\n",
    "tfidf_reduced = pca.fit_transform(tfidf_normalized)"
   ]
  },
  {
   "cell_type": "code",
   "execution_count": 61,
   "metadata": {},
   "outputs": [
    {
     "data": {
      "image/png": "[encoded data removed]",
      "text/plain": [
       "<Figure size 800x500 with 1 Axes>"
      ]
     },
     "metadata": {},
     "output_type": "display_data"
    },
    {
     "name": "stdout",
     "output_type": "stream",
     "text": [
      "Número ideal de componentes para 93% da variância: 3991\n"
     ]
    }
   ],
   "source": [
    "cumulative_variance = pca.explained_variance_ratio_.cumsum()\n",
    "\n",
    "# Plotar a variância explicada\n",
    "plt.figure(figsize=(8, 5))\n",
    "plt.plot(range(1, 4000 + 1), cumulative_variance, marker='o')\n",
    "plt.title(\"Cumulative Explained Variance by PCA Components\")\n",
    "plt.xlabel(\"Number of Components\")\n",
    "plt.ylabel(\"Cumulative Explained Variance\")\n",
    "plt.grid()\n",
    "plt.show()\n",
    "\n",
    "# Encontrar o número de componentes que explicam pelo menos 93% da variância\n",
    "n_components_93 = next(i for i, v in enumerate(cumulative_variance) if v >= 0.93) + 1\n",
    "print(f\"Número ideal de componentes para 93% da variância: {n_components_93}\")"
   ]
  },
  {
   "cell_type": "code",
   "execution_count": 62,
   "metadata": {},
   "outputs": [
    {
     "data": {
      "text/plain": [
       "(4799, 35526)"
      ]
     },
     "execution_count": 62,
     "metadata": {},
     "output_type": "execute_result"
    }
   ],
   "source": [
    "tfidf_normalized.shape"
   ]
  },
  {
   "cell_type": "code",
   "execution_count": 63,
   "metadata": {},
   "outputs": [],
   "source": [
    "pca = PCA(n_components=n_components_93)\n",
    "tfidf_reduced = pca.fit_transform(tfidf_normalized)"
   ]
  },
  {
   "cell_type": "code",
   "execution_count": 64,
   "metadata": {},
   "outputs": [
    {
     "name": "stdout",
     "output_type": "stream",
     "text": [
      "Variância explicada pelos dados: 93.00157786152138%\n"
     ]
    }
   ],
   "source": [
    "print(f'Variância explicada pelos dados: {pca.explained_variance_ratio_.sum() * 100}%')"
   ]
  },
  {
   "cell_type": "code",
   "execution_count": 66,
   "metadata": {},
   "outputs": [],
   "source": [
    "from sklearn.cluster import MiniBatchKMeans\n",
    "from k_means_constrained import KMeansConstrained\n",
    "from sklearn.metrics import silhouette_score\n",
    "\n",
    "# Converta a matriz TF-IDF para um array denso, se necessário\n",
    "tfidf_matrix_dense = tfidf_matrix.toarray()"
   ]
  },
  {
   "cell_type": "code",
   "execution_count": null,
   "metadata": {},
   "outputs": [
    {
     "name": "stderr",
     "output_type": "stream",
     "text": [
      "/home/pedro/.local/lib/python3.10/site-packages/k_means_constrained/k_means_constrained_.py:643: RuntimeWarning: Explicit initial center position passed: performing only one init in k-means instead of n_init=10\n",
      "  k_means_constrained(\n"
     ]
    },
    {
     "name": "stdout",
     "output_type": "stream",
     "text": [
      "# of clusters: 20 | Inertia: 4709.0429 | Silhouette: 0.0003\n"
     ]
    },
    {
     "name": "stderr",
     "output_type": "stream",
     "text": [
      "/home/pedro/.local/lib/python3.10/site-packages/k_means_constrained/k_means_constrained_.py:643: RuntimeWarning: Explicit initial center position passed: performing only one init in k-means instead of n_init=10\n",
      "  k_means_constrained(\n"
     ]
    },
    {
     "name": "stdout",
     "output_type": "stream",
     "text": [
      "# of clusters: 21 | Inertia: 4707.3180 | Silhouette: 0.0002\n"
     ]
    },
    {
     "name": "stderr",
     "output_type": "stream",
     "text": [
      "/home/pedro/.local/lib/python3.10/site-packages/k_means_constrained/k_means_constrained_.py:643: RuntimeWarning: Explicit initial center position passed: performing only one init in k-means instead of n_init=10\n",
      "  k_means_constrained(\n"
     ]
    },
    {
     "name": "stdout",
     "output_type": "stream",
     "text": [
      "# of clusters: 22 | Inertia: 4714.6287 | Silhouette: -0.0003\n"
     ]
    },
    {
     "name": "stderr",
     "output_type": "stream",
     "text": [
      "/home/pedro/.local/lib/python3.10/site-packages/k_means_constrained/k_means_constrained_.py:643: RuntimeWarning: Explicit initial center position passed: performing only one init in k-means instead of n_init=10\n",
      "  k_means_constrained(\n"
     ]
    },
    {
     "name": "stdout",
     "output_type": "stream",
     "text": [
      "# of clusters: 23 | Inertia: 4706.0322 | Silhouette: 0.0001\n"
     ]
    },
    {
     "name": "stderr",
     "output_type": "stream",
     "text": [
      "/home/pedro/.local/lib/python3.10/site-packages/k_means_constrained/k_means_constrained_.py:643: RuntimeWarning: Explicit initial center position passed: performing only one init in k-means instead of n_init=10\n",
      "  k_means_constrained(\n"
     ]
    },
    {
     "name": "stdout",
     "output_type": "stream",
     "text": [
      "# of clusters: 24 | Inertia: 4703.5426 | Silhouette: 0.0002\n"
     ]
    },
    {
     "name": "stderr",
     "output_type": "stream",
     "text": [
      "/home/pedro/.local/lib/python3.10/site-packages/k_means_constrained/k_means_constrained_.py:643: RuntimeWarning: Explicit initial center position passed: performing only one init in k-means instead of n_init=10\n",
      "  k_means_constrained(\n"
     ]
    },
    {
     "name": "stdout",
     "output_type": "stream",
     "text": [
      "# of clusters: 25 | Inertia: 4696.5616 | Silhouette: 0.0011\n"
     ]
    },
    {
     "name": "stderr",
     "output_type": "stream",
     "text": [
      "/home/pedro/.local/lib/python3.10/site-packages/k_means_constrained/k_means_constrained_.py:643: RuntimeWarning: Explicit initial center position passed: performing only one init in k-means instead of n_init=10\n",
      "  k_means_constrained(\n"
     ]
    },
    {
     "name": "stdout",
     "output_type": "stream",
     "text": [
      "# of clusters: 26 | Inertia: 4699.6292 | Silhouette: 0.0002\n"
     ]
    },
    {
     "name": "stderr",
     "output_type": "stream",
     "text": [
      "/home/pedro/.local/lib/python3.10/site-packages/k_means_constrained/k_means_constrained_.py:643: RuntimeWarning: Explicit initial center position passed: performing only one init in k-means instead of n_init=10\n",
      "  k_means_constrained(\n"
     ]
    },
    {
     "name": "stdout",
     "output_type": "stream",
     "text": [
      "# of clusters: 27 | Inertia: 4693.5054 | Silhouette: 0.0005\n"
     ]
    },
    {
     "name": "stderr",
     "output_type": "stream",
     "text": [
      "/home/pedro/.local/lib/python3.10/site-packages/k_means_constrained/k_means_constrained_.py:643: RuntimeWarning: Explicit initial center position passed: performing only one init in k-means instead of n_init=10\n",
      "  k_means_constrained(\n"
     ]
    },
    {
     "name": "stdout",
     "output_type": "stream",
     "text": [
      "# of clusters: 28 | Inertia: 4700.9907 | Silhouette: 0.0002\n"
     ]
    },
    {
     "name": "stderr",
     "output_type": "stream",
     "text": [
      "/home/pedro/.local/lib/python3.10/site-packages/k_means_constrained/k_means_constrained_.py:643: RuntimeWarning: Explicit initial center position passed: performing only one init in k-means instead of n_init=10\n",
      "  k_means_constrained(\n"
     ]
    },
    {
     "name": "stdout",
     "output_type": "stream",
     "text": [
      "# of clusters: 29 | Inertia: 4694.8266 | Silhouette: 0.0005\n"
     ]
    },
    {
     "name": "stderr",
     "output_type": "stream",
     "text": [
      "/home/pedro/.local/lib/python3.10/site-packages/k_means_constrained/k_means_constrained_.py:643: RuntimeWarning: Explicit initial center position passed: performing only one init in k-means instead of n_init=10\n",
      "  k_means_constrained(\n"
     ]
    },
    {
     "name": "stdout",
     "output_type": "stream",
     "text": [
      "# of clusters: 30 | Inertia: 4685.1901 | Silhouette: 0.0007\n"
     ]
    },
    {
     "name": "stderr",
     "output_type": "stream",
     "text": [
      "/home/pedro/.local/lib/python3.10/site-packages/k_means_constrained/k_means_constrained_.py:643: RuntimeWarning: Explicit initial center position passed: performing only one init in k-means instead of n_init=10\n",
      "  k_means_constrained(\n"
     ]
    },
    {
     "name": "stdout",
     "output_type": "stream",
     "text": [
      "# of clusters: 31 | Inertia: 4693.5741 | Silhouette: 0.0001\n"
     ]
    },
    {
     "name": "stderr",
     "output_type": "stream",
     "text": [
      "/home/pedro/.local/lib/python3.10/site-packages/k_means_constrained/k_means_constrained_.py:643: RuntimeWarning: Explicit initial center position passed: performing only one init in k-means instead of n_init=10\n",
      "  k_means_constrained(\n"
     ]
    },
    {
     "name": "stdout",
     "output_type": "stream",
     "text": [
      "# of clusters: 32 | Inertia: 4692.8070 | Silhouette: 0.0004\n"
     ]
    },
    {
     "name": "stderr",
     "output_type": "stream",
     "text": [
      "/home/pedro/.local/lib/python3.10/site-packages/k_means_constrained/k_means_constrained_.py:643: RuntimeWarning: Explicit initial center position passed: performing only one init in k-means instead of n_init=10\n",
      "  k_means_constrained(\n"
     ]
    },
    {
     "name": "stdout",
     "output_type": "stream",
     "text": [
      "# of clusters: 33 | Inertia: 4691.6325 | Silhouette: 0.0001\n"
     ]
    },
    {
     "name": "stderr",
     "output_type": "stream",
     "text": [
      "/home/pedro/.local/lib/python3.10/site-packages/k_means_constrained/k_means_constrained_.py:643: RuntimeWarning: Explicit initial center position passed: performing only one init in k-means instead of n_init=10\n",
      "  k_means_constrained(\n"
     ]
    },
    {
     "name": "stdout",
     "output_type": "stream",
     "text": [
      "# of clusters: 34 | Inertia: 4692.5812 | Silhouette: -0.0005\n"
     ]
    },
    {
     "name": "stderr",
     "output_type": "stream",
     "text": [
      "/home/pedro/.local/lib/python3.10/site-packages/k_means_constrained/k_means_constrained_.py:643: RuntimeWarning: Explicit initial center position passed: performing only one init in k-means instead of n_init=10\n",
      "  k_means_constrained(\n"
     ]
    },
    {
     "name": "stdout",
     "output_type": "stream",
     "text": [
      "# of clusters: 35 | Inertia: 4684.5561 | Silhouette: 0.0005\n"
     ]
    },
    {
     "name": "stderr",
     "output_type": "stream",
     "text": [
      "/home/pedro/.local/lib/python3.10/site-packages/k_means_constrained/k_means_constrained_.py:643: RuntimeWarning: Explicit initial center position passed: performing only one init in k-means instead of n_init=10\n",
      "  k_means_constrained(\n"
     ]
    },
    {
     "name": "stdout",
     "output_type": "stream",
     "text": [
      "# of clusters: 36 | Inertia: 4682.6861 | Silhouette: 0.0003\n"
     ]
    },
    {
     "name": "stderr",
     "output_type": "stream",
     "text": [
      "/home/pedro/.local/lib/python3.10/site-packages/k_means_constrained/k_means_constrained_.py:643: RuntimeWarning: Explicit initial center position passed: performing only one init in k-means instead of n_init=10\n",
      "  k_means_constrained(\n"
     ]
    },
    {
     "name": "stdout",
     "output_type": "stream",
     "text": [
      "# of clusters: 37 | Inertia: 4681.8278 | Silhouette: -0.0002\n"
     ]
    },
    {
     "name": "stderr",
     "output_type": "stream",
     "text": [
      "/home/pedro/.local/lib/python3.10/site-packages/k_means_constrained/k_means_constrained_.py:643: RuntimeWarning: Explicit initial center position passed: performing only one init in k-means instead of n_init=10\n",
      "  k_means_constrained(\n"
     ]
    },
    {
     "name": "stdout",
     "output_type": "stream",
     "text": [
      "# of clusters: 38 | Inertia: 4675.8821 | Silhouette: 0.0002\n"
     ]
    },
    {
     "name": "stderr",
     "output_type": "stream",
     "text": [
      "/home/pedro/.local/lib/python3.10/site-packages/k_means_constrained/k_means_constrained_.py:643: RuntimeWarning: Explicit initial center position passed: performing only one init in k-means instead of n_init=10\n",
      "  k_means_constrained(\n"
     ]
    },
    {
     "name": "stdout",
     "output_type": "stream",
     "text": [
      "# of clusters: 39 | Inertia: 4677.7255 | Silhouette: -0.0001\n"
     ]
    },
    {
     "name": "stderr",
     "output_type": "stream",
     "text": [
      "/home/pedro/.local/lib/python3.10/site-packages/k_means_constrained/k_means_constrained_.py:643: RuntimeWarning: Explicit initial center position passed: performing only one init in k-means instead of n_init=10\n",
      "  k_means_constrained(\n"
     ]
    },
    {
     "name": "stdout",
     "output_type": "stream",
     "text": [
      "# of clusters: 40 | Inertia: 4676.0060 | Silhouette: 0.0006\n"
     ]
    },
    {
     "name": "stderr",
     "output_type": "stream",
     "text": [
      "/home/pedro/.local/lib/python3.10/site-packages/k_means_constrained/k_means_constrained_.py:643: RuntimeWarning: Explicit initial center position passed: performing only one init in k-means instead of n_init=10\n",
      "  k_means_constrained(\n"
     ]
    },
    {
     "name": "stdout",
     "output_type": "stream",
     "text": [
      "# of clusters: 41 | Inertia: 4681.1230 | Silhouette: 0.0000\n"
     ]
    },
    {
     "name": "stderr",
     "output_type": "stream",
     "text": [
      "/home/pedro/.local/lib/python3.10/site-packages/k_means_constrained/k_means_constrained_.py:643: RuntimeWarning: Explicit initial center position passed: performing only one init in k-means instead of n_init=10\n",
      "  k_means_constrained(\n"
     ]
    },
    {
     "name": "stdout",
     "output_type": "stream",
     "text": [
      "# of clusters: 42 | Inertia: 4681.6609 | Silhouette: 0.0001\n"
     ]
    },
    {
     "name": "stderr",
     "output_type": "stream",
     "text": [
      "/home/pedro/.local/lib/python3.10/site-packages/k_means_constrained/k_means_constrained_.py:643: RuntimeWarning: Explicit initial center position passed: performing only one init in k-means instead of n_init=10\n",
      "  k_means_constrained(\n"
     ]
    },
    {
     "name": "stdout",
     "output_type": "stream",
     "text": [
      "# of clusters: 43 | Inertia: 4674.9803 | Silhouette: 0.0002\n"
     ]
    },
    {
     "name": "stderr",
     "output_type": "stream",
     "text": [
      "/home/pedro/.local/lib/python3.10/site-packages/k_means_constrained/k_means_constrained_.py:643: RuntimeWarning: Explicit initial center position passed: performing only one init in k-means instead of n_init=10\n",
      "  k_means_constrained(\n"
     ]
    },
    {
     "name": "stdout",
     "output_type": "stream",
     "text": [
      "# of clusters: 44 | Inertia: 4673.9973 | Silhouette: 0.0004\n"
     ]
    },
    {
     "name": "stderr",
     "output_type": "stream",
     "text": [
      "/home/pedro/.local/lib/python3.10/site-packages/k_means_constrained/k_means_constrained_.py:643: RuntimeWarning: Explicit initial center position passed: performing only one init in k-means instead of n_init=10\n",
      "  k_means_constrained(\n"
     ]
    },
    {
     "name": "stdout",
     "output_type": "stream",
     "text": [
      "# of clusters: 45 | Inertia: 4674.9782 | Silhouette: -0.0002\n"
     ]
    },
    {
     "name": "stderr",
     "output_type": "stream",
     "text": [
      "/home/pedro/.local/lib/python3.10/site-packages/k_means_constrained/k_means_constrained_.py:643: RuntimeWarning: Explicit initial center position passed: performing only one init in k-means instead of n_init=10\n",
      "  k_means_constrained(\n"
     ]
    },
    {
     "name": "stdout",
     "output_type": "stream",
     "text": [
      "# of clusters: 46 | Inertia: 4671.2128 | Silhouette: 0.0000\n"
     ]
    },
    {
     "name": "stderr",
     "output_type": "stream",
     "text": [
      "/home/pedro/.local/lib/python3.10/site-packages/k_means_constrained/k_means_constrained_.py:643: RuntimeWarning: Explicit initial center position passed: performing only one init in k-means instead of n_init=10\n",
      "  k_means_constrained(\n"
     ]
    },
    {
     "name": "stdout",
     "output_type": "stream",
     "text": [
      "# of clusters: 47 | Inertia: 4673.0185 | Silhouette: 0.0001\n"
     ]
    },
    {
     "name": "stderr",
     "output_type": "stream",
     "text": [
      "/home/pedro/.local/lib/python3.10/site-packages/k_means_constrained/k_means_constrained_.py:643: RuntimeWarning: Explicit initial center position passed: performing only one init in k-means instead of n_init=10\n",
      "  k_means_constrained(\n"
     ]
    },
    {
     "name": "stdout",
     "output_type": "stream",
     "text": [
      "# of clusters: 48 | Inertia: 4668.9728 | Silhouette: 0.0003\n"
     ]
    },
    {
     "name": "stderr",
     "output_type": "stream",
     "text": [
      "/home/pedro/.local/lib/python3.10/site-packages/k_means_constrained/k_means_constrained_.py:643: RuntimeWarning: Explicit initial center position passed: performing only one init in k-means instead of n_init=10\n",
      "  k_means_constrained(\n"
     ]
    },
    {
     "name": "stdout",
     "output_type": "stream",
     "text": [
      "# of clusters: 49 | Inertia: 4667.4166 | Silhouette: 0.0002\n"
     ]
    },
    {
     "name": "stderr",
     "output_type": "stream",
     "text": [
      "/home/pedro/.local/lib/python3.10/site-packages/k_means_constrained/k_means_constrained_.py:643: RuntimeWarning: Explicit initial center position passed: performing only one init in k-means instead of n_init=10\n",
      "  k_means_constrained(\n"
     ]
    },
    {
     "name": "stdout",
     "output_type": "stream",
     "text": [
      "# of clusters: 50 | Inertia: 4667.0900 | Silhouette: 0.0002\n"
     ]
    },
    {
     "name": "stderr",
     "output_type": "stream",
     "text": [
      "/home/pedro/.local/lib/python3.10/site-packages/k_means_constrained/k_means_constrained_.py:643: RuntimeWarning: Explicit initial center position passed: performing only one init in k-means instead of n_init=10\n",
      "  k_means_constrained(\n"
     ]
    },
    {
     "name": "stdout",
     "output_type": "stream",
     "text": [
      "# of clusters: 51 | Inertia: 4655.2614 | Silhouette: 0.0005\n"
     ]
    },
    {
     "name": "stderr",
     "output_type": "stream",
     "text": [
      "/home/pedro/.local/lib/python3.10/site-packages/k_means_constrained/k_means_constrained_.py:643: RuntimeWarning: Explicit initial center position passed: performing only one init in k-means instead of n_init=10\n",
      "  k_means_constrained(\n"
     ]
    },
    {
     "name": "stdout",
     "output_type": "stream",
     "text": [
      "# of clusters: 52 | Inertia: 4662.9760 | Silhouette: -0.0004\n"
     ]
    },
    {
     "name": "stderr",
     "output_type": "stream",
     "text": [
      "/home/pedro/.local/lib/python3.10/site-packages/k_means_constrained/k_means_constrained_.py:643: RuntimeWarning: Explicit initial center position passed: performing only one init in k-means instead of n_init=10\n",
      "  k_means_constrained(\n"
     ]
    },
    {
     "name": "stdout",
     "output_type": "stream",
     "text": [
      "# of clusters: 53 | Inertia: 4665.2395 | Silhouette: -0.0004\n"
     ]
    },
    {
     "name": "stderr",
     "output_type": "stream",
     "text": [
      "/home/pedro/.local/lib/python3.10/site-packages/k_means_constrained/k_means_constrained_.py:643: RuntimeWarning: Explicit initial center position passed: performing only one init in k-means instead of n_init=10\n",
      "  k_means_constrained(\n"
     ]
    },
    {
     "name": "stdout",
     "output_type": "stream",
     "text": [
      "# of clusters: 54 | Inertia: 4658.7855 | Silhouette: -0.0000\n"
     ]
    },
    {
     "name": "stderr",
     "output_type": "stream",
     "text": [
      "/home/pedro/.local/lib/python3.10/site-packages/k_means_constrained/k_means_constrained_.py:643: RuntimeWarning: Explicit initial center position passed: performing only one init in k-means instead of n_init=10\n",
      "  k_means_constrained(\n"
     ]
    },
    {
     "name": "stdout",
     "output_type": "stream",
     "text": [
      "# of clusters: 55 | Inertia: 4662.1520 | Silhouette: -0.0002\n"
     ]
    },
    {
     "name": "stderr",
     "output_type": "stream",
     "text": [
      "/home/pedro/.local/lib/python3.10/site-packages/k_means_constrained/k_means_constrained_.py:643: RuntimeWarning: Explicit initial center position passed: performing only one init in k-means instead of n_init=10\n",
      "  k_means_constrained(\n"
     ]
    },
    {
     "name": "stdout",
     "output_type": "stream",
     "text": [
      "# of clusters: 56 | Inertia: 4654.6914 | Silhouette: 0.0003\n"
     ]
    },
    {
     "name": "stderr",
     "output_type": "stream",
     "text": [
      "/home/pedro/.local/lib/python3.10/site-packages/k_means_constrained/k_means_constrained_.py:643: RuntimeWarning: Explicit initial center position passed: performing only one init in k-means instead of n_init=10\n",
      "  k_means_constrained(\n"
     ]
    },
    {
     "name": "stdout",
     "output_type": "stream",
     "text": [
      "# of clusters: 57 | Inertia: 4661.9205 | Silhouette: -0.0001\n"
     ]
    },
    {
     "name": "stderr",
     "output_type": "stream",
     "text": [
      "/home/pedro/.local/lib/python3.10/site-packages/k_means_constrained/k_means_constrained_.py:643: RuntimeWarning: Explicit initial center position passed: performing only one init in k-means instead of n_init=10\n",
      "  k_means_constrained(\n"
     ]
    },
    {
     "name": "stdout",
     "output_type": "stream",
     "text": [
      "# of clusters: 58 | Inertia: 4659.4476 | Silhouette: -0.0005\n"
     ]
    },
    {
     "name": "stderr",
     "output_type": "stream",
     "text": [
      "/home/pedro/.local/lib/python3.10/site-packages/k_means_constrained/k_means_constrained_.py:643: RuntimeWarning: Explicit initial center position passed: performing only one init in k-means instead of n_init=10\n",
      "  k_means_constrained(\n"
     ]
    },
    {
     "name": "stdout",
     "output_type": "stream",
     "text": [
      "# of clusters: 59 | Inertia: 4658.4675 | Silhouette: -0.0002\n"
     ]
    },
    {
     "name": "stderr",
     "output_type": "stream",
     "text": [
      "/home/pedro/.local/lib/python3.10/site-packages/k_means_constrained/k_means_constrained_.py:643: RuntimeWarning: Explicit initial center position passed: performing only one init in k-means instead of n_init=10\n",
      "  k_means_constrained(\n"
     ]
    },
    {
     "name": "stdout",
     "output_type": "stream",
     "text": [
      "# of clusters: 60 | Inertia: 4654.5664 | Silhouette: -0.0001\n"
     ]
    },
    {
     "name": "stderr",
     "output_type": "stream",
     "text": [
      "/home/pedro/.local/lib/python3.10/site-packages/k_means_constrained/k_means_constrained_.py:643: RuntimeWarning: Explicit initial center position passed: performing only one init in k-means instead of n_init=10\n",
      "  k_means_constrained(\n"
     ]
    },
    {
     "name": "stdout",
     "output_type": "stream",
     "text": [
      "# of clusters: 61 | Inertia: 4651.8489 | Silhouette: 0.0001\n"
     ]
    },
    {
     "name": "stderr",
     "output_type": "stream",
     "text": [
      "/home/pedro/.local/lib/python3.10/site-packages/k_means_constrained/k_means_constrained_.py:643: RuntimeWarning: Explicit initial center position passed: performing only one init in k-means instead of n_init=10\n",
      "  k_means_constrained(\n"
     ]
    },
    {
     "name": "stdout",
     "output_type": "stream",
     "text": [
      "# of clusters: 62 | Inertia: 4650.9521 | Silhouette: -0.0002\n"
     ]
    },
    {
     "name": "stderr",
     "output_type": "stream",
     "text": [
      "/home/pedro/.local/lib/python3.10/site-packages/k_means_constrained/k_means_constrained_.py:643: RuntimeWarning: Explicit initial center position passed: performing only one init in k-means instead of n_init=10\n",
      "  k_means_constrained(\n"
     ]
    },
    {
     "name": "stdout",
     "output_type": "stream",
     "text": [
      "# of clusters: 63 | Inertia: 4648.6405 | Silhouette: -0.0001\n"
     ]
    },
    {
     "name": "stderr",
     "output_type": "stream",
     "text": [
      "/home/pedro/.local/lib/python3.10/site-packages/k_means_constrained/k_means_constrained_.py:643: RuntimeWarning: Explicit initial center position passed: performing only one init in k-means instead of n_init=10\n",
      "  k_means_constrained(\n"
     ]
    },
    {
     "name": "stdout",
     "output_type": "stream",
     "text": [
      "# of clusters: 64 | Inertia: 4648.3365 | Silhouette: -0.0000\n"
     ]
    },
    {
     "name": "stderr",
     "output_type": "stream",
     "text": [
      "/home/pedro/.local/lib/python3.10/site-packages/k_means_constrained/k_means_constrained_.py:643: RuntimeWarning: Explicit initial center position passed: performing only one init in k-means instead of n_init=10\n",
      "  k_means_constrained(\n"
     ]
    },
    {
     "name": "stdout",
     "output_type": "stream",
     "text": [
      "# of clusters: 65 | Inertia: 4652.6707 | Silhouette: -0.0004\n"
     ]
    },
    {
     "name": "stderr",
     "output_type": "stream",
     "text": [
      "/home/pedro/.local/lib/python3.10/site-packages/k_means_constrained/k_means_constrained_.py:643: RuntimeWarning: Explicit initial center position passed: performing only one init in k-means instead of n_init=10\n",
      "  k_means_constrained(\n"
     ]
    },
    {
     "name": "stdout",
     "output_type": "stream",
     "text": [
      "# of clusters: 66 | Inertia: 4648.1122 | Silhouette: -0.0004\n"
     ]
    },
    {
     "name": "stderr",
     "output_type": "stream",
     "text": [
      "/home/pedro/.local/lib/python3.10/site-packages/k_means_constrained/k_means_constrained_.py:643: RuntimeWarning: Explicit initial center position passed: performing only one init in k-means instead of n_init=10\n",
      "  k_means_constrained(\n"
     ]
    },
    {
     "name": "stdout",
     "output_type": "stream",
     "text": [
      "# of clusters: 67 | Inertia: 4643.1002 | Silhouette: -0.0001\n"
     ]
    },
    {
     "name": "stderr",
     "output_type": "stream",
     "text": [
      "/home/pedro/.local/lib/python3.10/site-packages/k_means_constrained/k_means_constrained_.py:643: RuntimeWarning: Explicit initial center position passed: performing only one init in k-means instead of n_init=10\n",
      "  k_means_constrained(\n"
     ]
    },
    {
     "name": "stdout",
     "output_type": "stream",
     "text": [
      "# of clusters: 68 | Inertia: 4645.5228 | Silhouette: 0.0001\n"
     ]
    },
    {
     "name": "stderr",
     "output_type": "stream",
     "text": [
      "/home/pedro/.local/lib/python3.10/site-packages/k_means_constrained/k_means_constrained_.py:643: RuntimeWarning: Explicit initial center position passed: performing only one init in k-means instead of n_init=10\n",
      "  k_means_constrained(\n"
     ]
    },
    {
     "name": "stdout",
     "output_type": "stream",
     "text": [
      "# of clusters: 69 | Inertia: 4650.3219 | Silhouette: -0.0005\n"
     ]
    },
    {
     "name": "stderr",
     "output_type": "stream",
     "text": [
      "/home/pedro/.local/lib/python3.10/site-packages/k_means_constrained/k_means_constrained_.py:643: RuntimeWarning: Explicit initial center position passed: performing only one init in k-means instead of n_init=10\n",
      "  k_means_constrained(\n"
     ]
    },
    {
     "name": "stdout",
     "output_type": "stream",
     "text": [
      "# of clusters: 70 | Inertia: 4646.2234 | Silhouette: -0.0005\n"
     ]
    },
    {
     "name": "stderr",
     "output_type": "stream",
     "text": [
      "/home/pedro/.local/lib/python3.10/site-packages/k_means_constrained/k_means_constrained_.py:643: RuntimeWarning: Explicit initial center position passed: performing only one init in k-means instead of n_init=10\n",
      "  k_means_constrained(\n"
     ]
    },
    {
     "name": "stdout",
     "output_type": "stream",
     "text": [
      "# of clusters: 71 | Inertia: 4652.7204 | Silhouette: -0.0008\n"
     ]
    },
    {
     "name": "stderr",
     "output_type": "stream",
     "text": [
      "/home/pedro/.local/lib/python3.10/site-packages/k_means_constrained/k_means_constrained_.py:643: RuntimeWarning: Explicit initial center position passed: performing only one init in k-means instead of n_init=10\n",
      "  k_means_constrained(\n"
     ]
    },
    {
     "name": "stdout",
     "output_type": "stream",
     "text": [
      "# of clusters: 72 | Inertia: 4641.3065 | Silhouette: -0.0005\n"
     ]
    },
    {
     "name": "stderr",
     "output_type": "stream",
     "text": [
      "/home/pedro/.local/lib/python3.10/site-packages/k_means_constrained/k_means_constrained_.py:643: RuntimeWarning: Explicit initial center position passed: performing only one init in k-means instead of n_init=10\n",
      "  k_means_constrained(\n"
     ]
    },
    {
     "name": "stdout",
     "output_type": "stream",
     "text": [
      "# of clusters: 73 | Inertia: 4640.9266 | Silhouette: 0.0001\n"
     ]
    },
    {
     "name": "stderr",
     "output_type": "stream",
     "text": [
      "/home/pedro/.local/lib/python3.10/site-packages/k_means_constrained/k_means_constrained_.py:643: RuntimeWarning: Explicit initial center position passed: performing only one init in k-means instead of n_init=10\n",
      "  k_means_constrained(\n"
     ]
    },
    {
     "name": "stdout",
     "output_type": "stream",
     "text": [
      "# of clusters: 74 | Inertia: 4645.1408 | Silhouette: -0.0005\n"
     ]
    },
    {
     "name": "stderr",
     "output_type": "stream",
     "text": [
      "/home/pedro/.local/lib/python3.10/site-packages/k_means_constrained/k_means_constrained_.py:643: RuntimeWarning: Explicit initial center position passed: performing only one init in k-means instead of n_init=10\n",
      "  k_means_constrained(\n"
     ]
    },
    {
     "name": "stdout",
     "output_type": "stream",
     "text": [
      "# of clusters: 75 | Inertia: 4637.9992 | Silhouette: -0.0006\n"
     ]
    },
    {
     "name": "stderr",
     "output_type": "stream",
     "text": [
      "/home/pedro/.local/lib/python3.10/site-packages/k_means_constrained/k_means_constrained_.py:643: RuntimeWarning: Explicit initial center position passed: performing only one init in k-means instead of n_init=10\n",
      "  k_means_constrained(\n"
     ]
    },
    {
     "name": "stdout",
     "output_type": "stream",
     "text": [
      "# of clusters: 76 | Inertia: 4638.7232 | Silhouette: -0.0001\n"
     ]
    },
    {
     "name": "stderr",
     "output_type": "stream",
     "text": [
      "/home/pedro/.local/lib/python3.10/site-packages/k_means_constrained/k_means_constrained_.py:643: RuntimeWarning: Explicit initial center position passed: performing only one init in k-means instead of n_init=10\n",
      "  k_means_constrained(\n"
     ]
    },
    {
     "name": "stdout",
     "output_type": "stream",
     "text": [
      "# of clusters: 77 | Inertia: 4639.7699 | Silhouette: -0.0002\n"
     ]
    },
    {
     "name": "stderr",
     "output_type": "stream",
     "text": [
      "/home/pedro/.local/lib/python3.10/site-packages/k_means_constrained/k_means_constrained_.py:643: RuntimeWarning: Explicit initial center position passed: performing only one init in k-means instead of n_init=10\n",
      "  k_means_constrained(\n"
     ]
    },
    {
     "name": "stdout",
     "output_type": "stream",
     "text": [
      "# of clusters: 78 | Inertia: 4637.0548 | Silhouette: -0.0002\n"
     ]
    },
    {
     "name": "stderr",
     "output_type": "stream",
     "text": [
      "/home/pedro/.local/lib/python3.10/site-packages/k_means_constrained/k_means_constrained_.py:643: RuntimeWarning: Explicit initial center position passed: performing only one init in k-means instead of n_init=10\n",
      "  k_means_constrained(\n"
     ]
    },
    {
     "name": "stdout",
     "output_type": "stream",
     "text": [
      "# of clusters: 79 | Inertia: 4636.4215 | Silhouette: -0.0000\n"
     ]
    },
    {
     "name": "stderr",
     "output_type": "stream",
     "text": [
      "/home/pedro/.local/lib/python3.10/site-packages/k_means_constrained/k_means_constrained_.py:643: RuntimeWarning: Explicit initial center position passed: performing only one init in k-means instead of n_init=10\n",
      "  k_means_constrained(\n"
     ]
    },
    {
     "name": "stdout",
     "output_type": "stream",
     "text": [
      "# of clusters: 80 | Inertia: 4634.8847 | Silhouette: -0.0001\n"
     ]
    },
    {
     "name": "stderr",
     "output_type": "stream",
     "text": [
      "/home/pedro/.local/lib/python3.10/site-packages/k_means_constrained/k_means_constrained_.py:643: RuntimeWarning: Explicit initial center position passed: performing only one init in k-means instead of n_init=10\n",
      "  k_means_constrained(\n"
     ]
    },
    {
     "name": "stdout",
     "output_type": "stream",
     "text": [
      "# of clusters: 81 | Inertia: 4629.3857 | Silhouette: 0.0000\n"
     ]
    },
    {
     "name": "stderr",
     "output_type": "stream",
     "text": [
      "/home/pedro/.local/lib/python3.10/site-packages/k_means_constrained/k_means_constrained_.py:643: RuntimeWarning: Explicit initial center position passed: performing only one init in k-means instead of n_init=10\n",
      "  k_means_constrained(\n"
     ]
    },
    {
     "name": "stdout",
     "output_type": "stream",
     "text": [
      "# of clusters: 82 | Inertia: 4628.3281 | Silhouette: 0.0002\n"
     ]
    },
    {
     "name": "stderr",
     "output_type": "stream",
     "text": [
      "/home/pedro/.local/lib/python3.10/site-packages/k_means_constrained/k_means_constrained_.py:643: RuntimeWarning: Explicit initial center position passed: performing only one init in k-means instead of n_init=10\n",
      "  k_means_constrained(\n"
     ]
    },
    {
     "name": "stdout",
     "output_type": "stream",
     "text": [
      "# of clusters: 83 | Inertia: 4631.8285 | Silhouette: 0.0001\n"
     ]
    },
    {
     "name": "stderr",
     "output_type": "stream",
     "text": [
      "/home/pedro/.local/lib/python3.10/site-packages/k_means_constrained/k_means_constrained_.py:643: RuntimeWarning: Explicit initial center position passed: performing only one init in k-means instead of n_init=10\n",
      "  k_means_constrained(\n"
     ]
    },
    {
     "name": "stdout",
     "output_type": "stream",
     "text": [
      "# of clusters: 84 | Inertia: 4630.0700 | Silhouette: -0.0003\n"
     ]
    },
    {
     "name": "stderr",
     "output_type": "stream",
     "text": [
      "/home/pedro/.local/lib/python3.10/site-packages/k_means_constrained/k_means_constrained_.py:643: RuntimeWarning: Explicit initial center position passed: performing only one init in k-means instead of n_init=10\n",
      "  k_means_constrained(\n"
     ]
    },
    {
     "name": "stdout",
     "output_type": "stream",
     "text": [
      "# of clusters: 85 | Inertia: 4629.9522 | Silhouette: -0.0004\n"
     ]
    },
    {
     "name": "stderr",
     "output_type": "stream",
     "text": [
      "/home/pedro/.local/lib/python3.10/site-packages/k_means_constrained/k_means_constrained_.py:643: RuntimeWarning: Explicit initial center position passed: performing only one init in k-means instead of n_init=10\n",
      "  k_means_constrained(\n"
     ]
    },
    {
     "name": "stdout",
     "output_type": "stream",
     "text": [
      "# of clusters: 86 | Inertia: 4629.5419 | Silhouette: -0.0005\n"
     ]
    },
    {
     "name": "stderr",
     "output_type": "stream",
     "text": [
      "/home/pedro/.local/lib/python3.10/site-packages/k_means_constrained/k_means_constrained_.py:643: RuntimeWarning: Explicit initial center position passed: performing only one init in k-means instead of n_init=10\n",
      "  k_means_constrained(\n"
     ]
    },
    {
     "name": "stdout",
     "output_type": "stream",
     "text": [
      "# of clusters: 87 | Inertia: 4623.0877 | Silhouette: 0.0000\n"
     ]
    },
    {
     "name": "stderr",
     "output_type": "stream",
     "text": [
      "/home/pedro/.local/lib/python3.10/site-packages/k_means_constrained/k_means_constrained_.py:643: RuntimeWarning: Explicit initial center position passed: performing only one init in k-means instead of n_init=10\n",
      "  k_means_constrained(\n"
     ]
    },
    {
     "name": "stdout",
     "output_type": "stream",
     "text": [
      "# of clusters: 88 | Inertia: 4626.0863 | Silhouette: -0.0002\n"
     ]
    },
    {
     "name": "stderr",
     "output_type": "stream",
     "text": [
      "/home/pedro/.local/lib/python3.10/site-packages/k_means_constrained/k_means_constrained_.py:643: RuntimeWarning: Explicit initial center position passed: performing only one init in k-means instead of n_init=10\n",
      "  k_means_constrained(\n"
     ]
    },
    {
     "name": "stdout",
     "output_type": "stream",
     "text": [
      "# of clusters: 89 | Inertia: 4621.3604 | Silhouette: 0.0000\n"
     ]
    },
    {
     "name": "stderr",
     "output_type": "stream",
     "text": [
      "/home/pedro/.local/lib/python3.10/site-packages/k_means_constrained/k_means_constrained_.py:643: RuntimeWarning: Explicit initial center position passed: performing only one init in k-means instead of n_init=10\n",
      "  k_means_constrained(\n"
     ]
    },
    {
     "name": "stdout",
     "output_type": "stream",
     "text": [
      "# of clusters: 90 | Inertia: 4622.8775 | Silhouette: -0.0002\n",
      "Melhor número de clusters: 25\n",
      "Melhor índice de Silhouette: 0.0011\n"
     ]
    }
   ],
   "source": [
    "# Função para encontrar o melhor número de clusters\n",
    "def find_best_kmeans(tfidf_matrix_dense, cluster_range, size_min=50):\n",
    "    best_k = None\n",
    "    best_silhouette = -1  # Silhueta vai de -1 a 1, então iniciamos no pior caso\n",
    "    best_kmeans_model = None\n",
    "    results = []\n",
    "\n",
    "    for n_clusters in cluster_range:\n",
    "        # Etapa 1: MiniBatch KMeans para inicialização rápida\n",
    "        mini_batch_kmeans = MiniBatchKMeans(\n",
    "            n_clusters=n_clusters,\n",
    "            batch_size=256,\n",
    "            random_state=42\n",
    "        )\n",
    "        mini_batch_kmeans.fit(tfidf_matrix_dense)\n",
    "        \n",
    "        # Etapa 2: KMeansConstrained usando os centros do MiniBatch\n",
    "        kmeans = KMeansConstrained(\n",
    "            n_clusters=n_clusters,\n",
    "            size_min=size_min,\n",
    "            init=mini_batch_kmeans.cluster_centers_,  # Inicialização dos centros\n",
    "            random_state=42\n",
    "        )\n",
    "        kmeans.fit(tfidf_matrix_dense)\n",
    "        \n",
    "        # Calcular métricas: Inertia e Silhouette\n",
    "        inertia = kmeans.inertia_\n",
    "        silhouette = silhouette_score(tfidf_matrix_dense, kmeans.labels_)\n",
    "        \n",
    "        print(f'# of clusters: {n_clusters} | Inertia: {inertia:.4f} | Silhouette: {silhouette:.4f}')\n",
    "        \n",
    "        # Armazena os resultados para análise posterior\n",
    "        results.append((n_clusters, inertia, silhouette))\n",
    "        \n",
    "        # Atualiza o melhor modelo baseado na silhueta\n",
    "        if silhouette > best_silhouette:\n",
    "            best_k = n_clusters\n",
    "            best_silhouette = silhouette\n",
    "            best_kmeans_model = kmeans\n",
    "    \n",
    "    return best_k, best_silhouette, best_kmeans_model, results\n",
    "\n",
    "# Variar o número de clusters entre 30 e 90\n",
    "cluster_range = range(20, 91)\n",
    "best_k, best_silhouette, best_kmeans_model, results = find_best_kmeans(tfidf_matrix_dense, cluster_range)\n",
    "\n",
    "print(f\"Melhor número de clusters: {best_k}\")\n",
    "print(f\"Melhor índice de Silhouette: {best_silhouette:.4f}\")"
   ]
  },
  {
   "cell_type": "markdown",
   "metadata": {},
   "source": [
    "## Testando alguns bons"
   ]
  },
  {
   "cell_type": "markdown",
   "metadata": {},
   "source": [
    "### 25 clusters\n",
    "\n",
    "**Inertia:** 4696.5616\n",
    "\n",
    "**Silhouette:** 0.0011"
   ]
  },
  {
   "cell_type": "code",
   "execution_count": 37,
   "metadata": {},
   "outputs": [
    {
     "name": "stderr",
     "output_type": "stream",
     "text": [
      "/home/pedro/.local/lib/python3.10/site-packages/k_means_constrained/k_means_constrained_.py:643: RuntimeWarning: Explicit initial center position passed: performing only one init in k-means instead of n_init=10\n",
      "  k_means_constrained(\n"
     ]
    },
    {
     "data": {
      "text/plain": [
       "KMeansConstrained(copy_x=True,\n",
       "         init=array([[0., 0., ..., 0., 0.],\n",
       "       [0., 0., ..., 0., 0.],\n",
       "       ...,\n",
       "       [0., 0., ..., 0., 0.],\n",
       "       [0., 0., ..., 0., 0.]], shape=(25, 35551)),\n",
       "         max_iter=300, n_clusters=25, n_init=10, n_jobs=1, random_state=42,\n",
       "         size_max=None, size_min=50, tol=0.0001, verbose=False)"
      ]
     },
     "execution_count": 37,
     "metadata": {},
     "output_type": "execute_result"
    }
   ],
   "source": [
    "n_clusters = 25\n",
    "\n",
    "mini_batch_kmeans_25 = MiniBatchKMeans(\n",
    "    n_clusters=n_clusters,\n",
    "    batch_size=256,\n",
    "    random_state=42\n",
    ")\n",
    "\n",
    "mini_batch_kmeans_25.fit(tfidf_matrix_dense)\n",
    "\n",
    "# Etapa 2: KMeansConstrained usando os centros do MiniBatch\n",
    "kmeans_25 = KMeansConstrained(\n",
    "    n_clusters=n_clusters,\n",
    "    size_min=50,\n",
    "    init=mini_batch_kmeans_25.cluster_centers_,  # Inicialização dos centros\n",
    "    random_state=42\n",
    ")\n",
    "\n",
    "kmeans_25.fit(tfidf_matrix_dense)"
   ]
  },
  {
   "cell_type": "code",
   "execution_count": 78,
   "metadata": {},
   "outputs": [],
   "source": [
    "movies['cluster'] = kmeans_25.labels_"
   ]
  },
  {
   "cell_type": "code",
   "execution_count": 39,
   "metadata": {},
   "outputs": [
    {
     "data": {
      "text/plain": [
       "cluster\n",
       "11    2090\n",
       "16     692\n",
       "9      499\n",
       "14     152\n",
       "3      133\n",
       "19     123\n",
       "6       84\n",
       "10      77\n",
       "8       77\n",
       "24      71\n",
       "23      65\n",
       "22      63\n",
       "20      61\n",
       "2       57\n",
       "21      54\n",
       "15      53\n",
       "4       53\n",
       "13      52\n",
       "1       50\n",
       "7       50\n",
       "5       50\n",
       "18      50\n",
       "12      50\n",
       "17      50\n",
       "0       50\n",
       "Name: count, dtype: int64"
      ]
     },
     "execution_count": 39,
     "metadata": {},
     "output_type": "execute_result"
    }
   ],
   "source": [
    "movies['cluster'].value_counts()"
   ]
  },
  {
   "cell_type": "code",
   "execution_count": 40,
   "metadata": {},
   "outputs": [],
   "source": [
    "# Função para recomendar filmes semelhantes\n",
    "def recommend_similar_movies(movie_title, num_recommendations=5):\n",
    "    if movie_title not in movies['title'].values:\n",
    "        return \"Filme não encontrado.\"\n",
    "    \n",
    "    movie_cluster = movies[movies['title'] == movie_title]['cluster'].values[0]\n",
    "    similar_movies = movies[movies['cluster'] == movie_cluster]\n",
    "    similar_movies = similar_movies[similar_movies['title'] != movie_title]\n",
    "    \n",
    "    return similar_movies[['title', 'genres']].head(num_recommendations)"
   ]
  },
  {
   "cell_type": "code",
   "execution_count": 65,
   "metadata": {},
   "outputs": [
    {
     "name": "stdout",
     "output_type": "stream",
     "text": [
      "                                   title  \\\n",
      "3                  The Dark Knight Rises   \n",
      "5                           Spider-Man 3   \n",
      "7                Avengers: Age of Ultron   \n",
      "9     Batman v Superman: Dawn of Justice   \n",
      "10                      Superman Returns   \n",
      "14                          Man of Steel   \n",
      "16                          The Avengers   \n",
      "20                The Amazing Spider-Man   \n",
      "26            Captain America: Civil War   \n",
      "30                          Spider-Man 2   \n",
      "31                            Iron Man 3   \n",
      "33                 X-Men: The Last Stand   \n",
      "38              The Amazing Spider-Man 2   \n",
      "41                         Green Lantern   \n",
      "46            X-Men: Days of Future Past   \n",
      "64                     X-Men: Apocalypse   \n",
      "65                       The Dark Knight   \n",
      "68                              Iron Man   \n",
      "72                         Suicide Squad   \n",
      "79                            Iron Man 2   \n",
      "85   Captain America: The Winter Soldier   \n",
      "94               Guardians of the Galaxy   \n",
      "101                   X-Men: First Class   \n",
      "115                              Hancock   \n",
      "119                        Batman Begins   \n",
      "\n",
      "                                                genres  \n",
      "3                     [Action, Crime, Drama, Thriller]  \n",
      "5                         [Fantasy, Action, Adventure]  \n",
      "7                  [Action, Adventure, ScienceFiction]  \n",
      "9                         [Action, Adventure, Fantasy]  \n",
      "10        [Adventure, Fantasy, Action, ScienceFiction]  \n",
      "14        [Action, Adventure, Fantasy, ScienceFiction]  \n",
      "16                 [ScienceFiction, Action, Adventure]  \n",
      "20                        [Action, Adventure, Fantasy]  \n",
      "26                 [Adventure, Action, ScienceFiction]  \n",
      "30                        [Action, Adventure, Fantasy]  \n",
      "31                 [Action, Adventure, ScienceFiction]  \n",
      "33       [Adventure, Action, ScienceFiction, Thriller]  \n",
      "38                        [Action, Adventure, Fantasy]  \n",
      "41       [Adventure, Action, Thriller, ScienceFiction]  \n",
      "46        [Action, Adventure, Fantasy, ScienceFiction]  \n",
      "64                                    [ScienceFiction]  \n",
      "65                    [Drama, Action, Crime, Thriller]  \n",
      "68                 [Action, ScienceFiction, Adventure]  \n",
      "72   [Action, Adventure, Crime, Fantasy, ScienceFic...  \n",
      "79                 [Adventure, Action, ScienceFiction]  \n",
      "85                 [Action, Adventure, ScienceFiction]  \n",
      "94                 [Action, ScienceFiction, Adventure]  \n",
      "101                [Action, ScienceFiction, Adventure]  \n",
      "115                                  [Fantasy, Action]  \n",
      "119                             [Action, Crime, Drama]  \n"
     ]
    }
   ],
   "source": [
    "print(recommend_similar_movies('Spider-Man', 25))"
   ]
  },
  {
   "cell_type": "code",
   "execution_count": 79,
   "metadata": {},
   "outputs": [
    {
     "name": "stdout",
     "output_type": "stream",
     "text": [
      "                                                  title  \\\n",
      "141                                     Mars Needs Moms   \n",
      "243                                 Night at the Museum   \n",
      "265                                  The Cat in the Hat   \n",
      "293                           Where the Wild Things Are   \n",
      "436                                         Grown Ups 2   \n",
      "501                                   The Little Prince   \n",
      "560                                              Driven   \n",
      "639                                       Step Brothers   \n",
      "842                                          Paddington   \n",
      "881                                             Beloved   \n",
      "896                                            Barnyard   \n",
      "1038                                          Liar Liar   \n",
      "1072                                            Blended   \n",
      "1175                                       Ride Along 2   \n",
      "1293                                  Because I Said So   \n",
      "1544                                              Speed   \n",
      "1580                                     13 Going on 30   \n",
      "1583                                               Blow   \n",
      "1675                                    Little Nicholas   \n",
      "1705                                        Role Models   \n",
      "1725  Alexander and the Terrible, Horrible, No Good,...   \n",
      "1736                                      A Simple Wish   \n",
      "1843                               Bridge to Terabithia   \n",
      "1915                                          Draft Day   \n",
      "1988                                             Faster   \n",
      "2358                                    Youth in Revolt   \n",
      "2473                                           Hot Fuzz   \n",
      "2501                                     Enter the Void   \n",
      "2502                                              Vamps   \n",
      "2522                                   The Color Purple   \n",
      "2736                               Miracles from Heaven   \n",
      "2762                                               Room   \n",
      "2764                                         Serial Mom   \n",
      "2948                                           Slackers   \n",
      "2993                                   Jeepers Creepers   \n",
      "3118        An Alan Smithee Film: Burn, Hollywood, Burn   \n",
      "3181                                        The Savages   \n",
      "3241                               Little Miss Sunshine   \n",
      "3461                                    Duel in the Sun   \n",
      "3657                                          The Visit   \n",
      "3704                                          25th Hour   \n",
      "4117                                      Clockwatchers   \n",
      "4177                           A Streetcar Named Desire   \n",
      "4289                                   The Lost Weekend   \n",
      "4381                                           Blue Car   \n",
      "\n",
      "                                            genres  \n",
      "141                 [Adventure, Animation, Family]  \n",
      "243   [Action, Adventure, Comedy, Family, Fantasy]  \n",
      "265                      [Comedy, Fantasy, Family]  \n",
      "293                              [Family, Fantasy]  \n",
      "436                                       [Comedy]  \n",
      "501                [Adventure, Animation, Fantasy]  \n",
      "560                                       [Action]  \n",
      "639                                       [Comedy]  \n",
      "842                               [Family, Comedy]  \n",
      "881                              [Drama, Thriller]  \n",
      "896                    [Animation, Comedy, Family]  \n",
      "1038                                      [Comedy]  \n",
      "1072                                      [Comedy]  \n",
      "1175                              [Action, Comedy]  \n",
      "1293                                      [Comedy]  \n",
      "1544                    [Action, Adventure, Crime]  \n",
      "1580                    [Comedy, Fantasy, Romance]  \n",
      "1583                                [Crime, Drama]  \n",
      "1675                                      [Comedy]  \n",
      "1705                                      [Comedy]  \n",
      "1725                              [Family, Comedy]  \n",
      "1736          [Adventure, Comedy, Family, Fantasy]  \n",
      "1843                    [Adventure, Drama, Family]  \n",
      "1915                                       [Drama]  \n",
      "1988              [Crime, Drama, Action, Thriller]  \n",
      "2358                      [Drama, Comedy, Romance]  \n",
      "2473                       [Crime, Action, Comedy]  \n",
      "2501                              [Fantasy, Drama]  \n",
      "2502                     [Comedy, Romance, Horror]  \n",
      "2522                                       [Drama]  \n",
      "2736                                       [Drama]  \n",
      "2762                             [Drama, Thriller]  \n",
      "2764             [Comedy, Crime, Horror, Thriller]  \n",
      "2948                             [Comedy, Romance]  \n",
      "2993                            [Horror, Thriller]  \n",
      "3118                                      [Comedy]  \n",
      "3181                                       [Drama]  \n",
      "3241                               [Comedy, Drama]  \n",
      "3461                                     [Western]  \n",
      "3657                            [Horror, Thriller]  \n",
      "3704                                [Crime, Drama]  \n",
      "4117                               [Comedy, Drama]  \n",
      "4177                                       [Drama]  \n",
      "4289                                       [Drama]  \n",
      "4381                                       [Drama]  \n"
     ]
    }
   ],
   "source": [
    "print(recommend_similar_movies('Harry Potter and the Half-Blood Prince', 45))"
   ]
  },
  {
   "cell_type": "markdown",
   "metadata": {},
   "source": [
    "### 30 clusters\n",
    "\n",
    "**Inertia:** 4685.1901\n",
    "\n",
    "**Silhouette:** 0.0007"
   ]
  },
  {
   "cell_type": "code",
   "execution_count": 42,
   "metadata": {},
   "outputs": [
    {
     "name": "stderr",
     "output_type": "stream",
     "text": [
      "/home/pedro/.local/lib/python3.10/site-packages/k_means_constrained/k_means_constrained_.py:643: RuntimeWarning: Explicit initial center position passed: performing only one init in k-means instead of n_init=10\n",
      "  k_means_constrained(\n"
     ]
    },
    {
     "data": {
      "text/plain": [
       "KMeansConstrained(copy_x=True,\n",
       "         init=array([[0., 0., ..., 0., 0.],\n",
       "       [0., 0., ..., 0., 0.],\n",
       "       ...,\n",
       "       [0., 0., ..., 0., 0.],\n",
       "       [0., 0., ..., 0., 0.]], shape=(30, 35551)),\n",
       "         max_iter=300, n_clusters=30, n_init=10, n_jobs=1, random_state=42,\n",
       "         size_max=None, size_min=50, tol=0.0001, verbose=False)"
      ]
     },
     "execution_count": 42,
     "metadata": {},
     "output_type": "execute_result"
    }
   ],
   "source": [
    "n_clusters = 30\n",
    "\n",
    "mini_batch_kmeans_30 = MiniBatchKMeans(\n",
    "    n_clusters=n_clusters,\n",
    "    batch_size=256,\n",
    "    random_state=42\n",
    ")\n",
    "\n",
    "mini_batch_kmeans_30.fit(tfidf_matrix_dense)\n",
    "\n",
    "# Etapa 2: KMeansConstrained usando os centros do MiniBatch\n",
    "kmeans_30 = KMeansConstrained(\n",
    "    n_clusters=n_clusters,\n",
    "    size_min=50,\n",
    "    init=mini_batch_kmeans_30.cluster_centers_,  # Inicialização dos centros\n",
    "    random_state=42\n",
    ")\n",
    "\n",
    "kmeans_30.fit(tfidf_matrix_dense)"
   ]
  },
  {
   "cell_type": "code",
   "execution_count": 43,
   "metadata": {},
   "outputs": [],
   "source": [
    "movies['cluster'] = kmeans_30.labels_"
   ]
  },
  {
   "cell_type": "code",
   "execution_count": 44,
   "metadata": {},
   "outputs": [
    {
     "data": {
      "text/plain": [
       "cluster\n",
       "10    2237\n",
       "1      430\n",
       "9      201\n",
       "8      146\n",
       "24     144\n",
       "29     137\n",
       "17     127\n",
       "20     120\n",
       "6       90\n",
       "7       80\n",
       "27      77\n",
       "28      65\n",
       "23      62\n",
       "25      60\n",
       "2       55\n",
       "19      55\n",
       "22      54\n",
       "21      54\n",
       "16      53\n",
       "11      52\n",
       "15      52\n",
       "4       52\n",
       "5       51\n",
       "12      51\n",
       "3       51\n",
       "0       50\n",
       "26      50\n",
       "13      50\n",
       "18      50\n",
       "14      50\n",
       "Name: count, dtype: int64"
      ]
     },
     "execution_count": 44,
     "metadata": {},
     "output_type": "execute_result"
    }
   ],
   "source": [
    "movies['cluster'].value_counts()"
   ]
  },
  {
   "cell_type": "code",
   "execution_count": 45,
   "metadata": {},
   "outputs": [
    {
     "name": "stdout",
     "output_type": "stream",
     "text": [
      "                                                 title  \\\n",
      "5                                         Spider-Man 3   \n",
      "8               Harry Potter and the Half-Blood Prince   \n",
      "15            The Chronicles of Narnia: Prince Caspian   \n",
      "30                                        Spider-Man 2   \n",
      "37                          Oz: The Great and Powerful   \n",
      "63   The Chronicles of Narnia: The Lion, the Witch ...   \n",
      "109  The Chronicles of Narnia: The Voyage of the Da...   \n",
      "113          Harry Potter and the Order of the Phoenix   \n",
      "114                Harry Potter and the Goblet of Fire   \n",
      "146                 Madagascar 3: Europe's Most Wanted   \n",
      "191           Harry Potter and the Prisoner of Azkaban   \n",
      "195            Night at the Museum: Secret of the Tomb   \n",
      "197           Harry Potter and the Philosopher's Stone   \n",
      "233          Star Wars: Episode I - The Phantom Menace   \n",
      "237                         The Huntsman: Winter's War   \n",
      "\n",
      "                                    genres  \n",
      "5             [Fantasy, Action, Adventure]  \n",
      "8             [Adventure, Fantasy, Family]  \n",
      "15            [Adventure, Family, Fantasy]  \n",
      "30            [Action, Adventure, Fantasy]  \n",
      "37            [Fantasy, Adventure, Family]  \n",
      "63            [Adventure, Family, Fantasy]  \n",
      "109           [Adventure, Family, Fantasy]  \n",
      "113  [Adventure, Fantasy, Family, Mystery]  \n",
      "114           [Adventure, Fantasy, Family]  \n",
      "146                    [Animation, Family]  \n",
      "191           [Adventure, Fantasy, Family]  \n",
      "195   [Adventure, Comedy, Fantasy, Family]  \n",
      "197           [Adventure, Fantasy, Family]  \n",
      "233    [Adventure, Action, ScienceFiction]  \n",
      "237             [Action, Adventure, Drama]  \n"
     ]
    }
   ],
   "source": [
    "print(recommend_similar_movies('Spider-Man', 15))"
   ]
  },
  {
   "cell_type": "markdown",
   "metadata": {},
   "source": [
    "Pelo resultado acima, não foi muito bom, já que relacionou MUITO Spider-Man com Harry Potter"
   ]
  },
  {
   "cell_type": "markdown",
   "metadata": {},
   "source": [
    "### 40 clusters\n",
    "\n",
    "**Inertia:** 4676.0060\n",
    "\n",
    "**Silhouette:** 0.0006"
   ]
  },
  {
   "cell_type": "code",
   "execution_count": 46,
   "metadata": {},
   "outputs": [
    {
     "name": "stderr",
     "output_type": "stream",
     "text": [
      "/home/pedro/.local/lib/python3.10/site-packages/k_means_constrained/k_means_constrained_.py:643: RuntimeWarning: Explicit initial center position passed: performing only one init in k-means instead of n_init=10\n",
      "  k_means_constrained(\n"
     ]
    },
    {
     "data": {
      "text/plain": [
       "KMeansConstrained(copy_x=True,\n",
       "         init=array([[0., 0., ..., 0., 0.],\n",
       "       [0., 0., ..., 0., 0.],\n",
       "       ...,\n",
       "       [0., 0., ..., 0., 0.],\n",
       "       [0., 0., ..., 0., 0.]], shape=(40, 35551)),\n",
       "         max_iter=300, n_clusters=40, n_init=10, n_jobs=1, random_state=42,\n",
       "         size_max=None, size_min=50, tol=0.0001, verbose=False)"
      ]
     },
     "execution_count": 46,
     "metadata": {},
     "output_type": "execute_result"
    }
   ],
   "source": [
    "n_clusters = 40\n",
    "\n",
    "mini_batch_kmeans_40 = MiniBatchKMeans(\n",
    "    n_clusters=n_clusters,\n",
    "    batch_size=256,\n",
    "    random_state=42\n",
    ")\n",
    "\n",
    "mini_batch_kmeans_40.fit(tfidf_matrix_dense)\n",
    "\n",
    "# Etapa 2: KMeansConstrained usando os centros do MiniBatch\n",
    "kmeans_40= KMeansConstrained(\n",
    "    n_clusters=n_clusters,\n",
    "    size_min=50,\n",
    "    init=mini_batch_kmeans_40.cluster_centers_,  # Inicialização dos centros\n",
    "    random_state=42\n",
    ")\n",
    "\n",
    "kmeans_40.fit(tfidf_matrix_dense)"
   ]
  },
  {
   "cell_type": "code",
   "execution_count": 74,
   "metadata": {},
   "outputs": [],
   "source": [
    "movies['cluster'] = kmeans_40.labels_"
   ]
  },
  {
   "cell_type": "code",
   "execution_count": 67,
   "metadata": {},
   "outputs": [
    {
     "data": {
      "text/plain": [
       "cluster\n",
       "22    1825\n",
       "36     646\n",
       "24     126\n",
       "32     120\n",
       "25     119\n",
       "9      114\n",
       "38     112\n",
       "35      71\n",
       "14      70\n",
       "21      68\n",
       "27      65\n",
       "0       58\n",
       "3       55\n",
       "33      53\n",
       "15      52\n",
       "11      51\n",
       "6       51\n",
       "8       50\n",
       "37      50\n",
       "10      50\n",
       "26      50\n",
       "12      50\n",
       "16      50\n",
       "7       50\n",
       "4       50\n",
       "13      50\n",
       "31      50\n",
       "1       50\n",
       "18      50\n",
       "29      50\n",
       "5       50\n",
       "39      50\n",
       "19      50\n",
       "28      50\n",
       "30      50\n",
       "20      50\n",
       "34      50\n",
       "2       50\n",
       "17      50\n",
       "23      50\n",
       "Name: count, dtype: int64"
      ]
     },
     "execution_count": 67,
     "metadata": {},
     "output_type": "execute_result"
    }
   ],
   "source": [
    "movies['cluster'].value_counts()"
   ]
  },
  {
   "cell_type": "code",
   "execution_count": 68,
   "metadata": {},
   "outputs": [
    {
     "name": "stdout",
     "output_type": "stream",
     "text": [
      "                                   title  \\\n",
      "3                  The Dark Knight Rises   \n",
      "5                           Spider-Man 3   \n",
      "7                Avengers: Age of Ultron   \n",
      "9     Batman v Superman: Dawn of Justice   \n",
      "10                      Superman Returns   \n",
      "14                          Man of Steel   \n",
      "16                          The Avengers   \n",
      "20                The Amazing Spider-Man   \n",
      "26            Captain America: Civil War   \n",
      "30                          Spider-Man 2   \n",
      "31                            Iron Man 3   \n",
      "33                 X-Men: The Last Stand   \n",
      "38              The Amazing Spider-Man 2   \n",
      "41                         Green Lantern   \n",
      "46            X-Men: Days of Future Past   \n",
      "64                     X-Men: Apocalypse   \n",
      "65                       The Dark Knight   \n",
      "68                              Iron Man   \n",
      "72                         Suicide Squad   \n",
      "79                            Iron Man 2   \n",
      "85   Captain America: The Winter Soldier   \n",
      "94               Guardians of the Galaxy   \n",
      "101                   X-Men: First Class   \n",
      "115                              Hancock   \n",
      "119                        Batman Begins   \n",
      "\n",
      "                                                genres  \n",
      "3                     [Action, Crime, Drama, Thriller]  \n",
      "5                         [Fantasy, Action, Adventure]  \n",
      "7                  [Action, Adventure, ScienceFiction]  \n",
      "9                         [Action, Adventure, Fantasy]  \n",
      "10        [Adventure, Fantasy, Action, ScienceFiction]  \n",
      "14        [Action, Adventure, Fantasy, ScienceFiction]  \n",
      "16                 [ScienceFiction, Action, Adventure]  \n",
      "20                        [Action, Adventure, Fantasy]  \n",
      "26                 [Adventure, Action, ScienceFiction]  \n",
      "30                        [Action, Adventure, Fantasy]  \n",
      "31                 [Action, Adventure, ScienceFiction]  \n",
      "33       [Adventure, Action, ScienceFiction, Thriller]  \n",
      "38                        [Action, Adventure, Fantasy]  \n",
      "41       [Adventure, Action, Thriller, ScienceFiction]  \n",
      "46        [Action, Adventure, Fantasy, ScienceFiction]  \n",
      "64                                    [ScienceFiction]  \n",
      "65                    [Drama, Action, Crime, Thriller]  \n",
      "68                 [Action, ScienceFiction, Adventure]  \n",
      "72   [Action, Adventure, Crime, Fantasy, ScienceFic...  \n",
      "79                 [Adventure, Action, ScienceFiction]  \n",
      "85                 [Action, Adventure, ScienceFiction]  \n",
      "94                 [Action, ScienceFiction, Adventure]  \n",
      "101                [Action, ScienceFiction, Adventure]  \n",
      "115                                  [Fantasy, Action]  \n",
      "119                             [Action, Crime, Drama]  \n"
     ]
    }
   ],
   "source": [
    "print(recommend_similar_movies('Spider-Man', 25))"
   ]
  },
  {
   "cell_type": "code",
   "execution_count": 77,
   "metadata": {},
   "outputs": [
    {
     "name": "stdout",
     "output_type": "stream",
     "text": [
      "                                                 title  \\\n",
      "6                                              Tangled   \n",
      "15            The Chronicles of Narnia: Prince Caspian   \n",
      "37                          Oz: The Great and Powerful   \n",
      "42                                         Toy Story 3   \n",
      "54                                   The Good Dinosaur   \n",
      "63   The Chronicles of Narnia: The Lion, the Witch ...   \n",
      "66                                                  Up   \n",
      "78                                     The Jungle Book   \n",
      "90                                   The Polar Express   \n",
      "103                          The Sorcerer's Apprentice   \n",
      "113          Harry Potter and the Order of the Phoenix   \n",
      "117                  Charlie and the Chocolate Factory   \n",
      "124                                             Frozen   \n",
      "130                                               Bolt   \n",
      "142                                       Flushed Away   \n",
      "143                                                Pan   \n",
      "173                                     Happy Feet Two   \n",
      "179                             Penguins of Madagascar   \n",
      "187                                      Puss in Boots   \n",
      "191           Harry Potter and the Prisoner of Azkaban   \n",
      "194                                           Dinosaur   \n",
      "195            Night at the Museum: Secret of the Tomb   \n",
      "197           Harry Potter and the Philosopher's Stone   \n",
      "202                                              Rio 2   \n",
      "234                                         The Croods   \n",
      "254                                         The Smurfs   \n",
      "258                                       The Smurfs 2   \n",
      "269                          The Princess and the Frog   \n",
      "276            Harry Potter and the Chamber of Secrets   \n",
      "294                                               Epic   \n",
      "313                                  The Peanuts Movie   \n",
      "318                                          Surf's Up   \n",
      "325                         Ice Age: Continental Drift   \n",
      "327                                   The Lovely Bones   \n",
      "348                     Ice Age: Dawn of the Dinosaurs   \n",
      "349                    The Secret Life of Walter Mitty   \n",
      "358                          Atlantis: The Lost Empire   \n",
      "359             Alvin and the Chipmunks: The Road Chip   \n",
      "385                                         Happy Feet   \n",
      "391                                          Enchanted   \n",
      "403                                   Last Action Hero   \n",
      "410                                      Mirror Mirror   \n",
      "429                                     Over the Hedge   \n",
      "435               Alvin and the Chipmunks: Chipwrecked   \n",
      "441                                             Robots   \n",
      "\n",
      "                                                genres  \n",
      "6                                  [Animation, Family]  \n",
      "15                        [Adventure, Family, Fantasy]  \n",
      "37                        [Fantasy, Adventure, Family]  \n",
      "42                         [Animation, Family, Comedy]  \n",
      "54                      [Adventure, Animation, Family]  \n",
      "63                        [Adventure, Family, Fantasy]  \n",
      "66              [Animation, Comedy, Family, Adventure]  \n",
      "78                 [Family, Adventure, Drama, Fantasy]  \n",
      "90             [Adventure, Animation, Family, Fantasy]  \n",
      "103        [Fantasy, Adventure, Action, Comedy, Drama]  \n",
      "113              [Adventure, Fantasy, Family, Mystery]  \n",
      "117               [Adventure, Comedy, Family, Fantasy]  \n",
      "124                     [Animation, Adventure, Family]  \n",
      "130             [Animation, Family, Adventure, Comedy]  \n",
      "142             [Adventure, Animation, Comedy, Family]  \n",
      "143                       [Adventure, Family, Fantasy]  \n",
      "173                        [Animation, Comedy, Family]  \n",
      "179             [Family, Animation, Adventure, Comedy]  \n",
      "187    [Action, Adventure, Animation, Family, Fantasy]  \n",
      "191                       [Adventure, Fantasy, Family]  \n",
      "194                                [Animation, Family]  \n",
      "195               [Adventure, Comedy, Fantasy, Family]  \n",
      "197                       [Adventure, Fantasy, Family]  \n",
      "202             [Animation, Adventure, Comedy, Family]  \n",
      "234    [Adventure, Animation, Comedy, Family, Fantasy]  \n",
      "254    [Animation, Family, Adventure, Comedy, Fantasy]  \n",
      "258               [Fantasy, Family, Comedy, Animation]  \n",
      "269                [Romance, Family, Animation, Music]  \n",
      "276                       [Adventure, Fantasy, Family]  \n",
      "294            [Animation, Adventure, Family, Fantasy]  \n",
      "313                                        [Animation]  \n",
      "318                        [Animation, Comedy, Family]  \n",
      "325             [Animation, Comedy, Adventure, Family]  \n",
      "327                                   [Fantasy, Drama]  \n",
      "348             [Animation, Comedy, Family, Adventure]  \n",
      "349                [Adventure, Comedy, Drama, Fantasy]  \n",
      "358     [Animation, Family, Adventure, ScienceFiction]  \n",
      "359             [Adventure, Animation, Comedy, Family]  \n",
      "385                                [Animation, Comedy]  \n",
      "391                 [Comedy, Family, Fantasy, Romance]  \n",
      "403       [Adventure, Fantasy, Action, Comedy, Family]  \n",
      "410  [Adventure, Fantasy, Drama, Comedy, ScienceFic...  \n",
      "429                        [Comedy, Animation, Family]  \n",
      "435        [Comedy, Fantasy, Family, Music, Animation]  \n",
      "441        [Animation, Comedy, Family, ScienceFiction]  \n"
     ]
    }
   ],
   "source": [
    "print(recommend_similar_movies('Harry Potter and the Half-Blood Prince', 45))"
   ]
  },
  {
   "cell_type": "markdown",
   "metadata": {},
   "source": [
    "Resultado bom, mostrando todos filmes do Spider-Man e relacionando com outros filmes de super-herói"
   ]
  },
  {
   "cell_type": "markdown",
   "metadata": {},
   "source": [
    "### 51 clusters\n",
    "\n",
    "**Inertia:** 4655.2614\n",
    "\n",
    "**Silhouette:** 0.0005"
   ]
  },
  {
   "cell_type": "code",
   "execution_count": 67,
   "metadata": {},
   "outputs": [
    {
     "name": "stderr",
     "output_type": "stream",
     "text": [
      "/home/pedro/.local/lib/python3.10/site-packages/k_means_constrained/k_means_constrained_.py:643: RuntimeWarning: Explicit initial center position passed: performing only one init in k-means instead of n_init=10\n",
      "  k_means_constrained(\n"
     ]
    },
    {
     "data": {
      "text/plain": [
       "KMeansConstrained(copy_x=True,\n",
       "         init=array([[0., 0., ..., 0., 0.],\n",
       "       [0., 0., ..., 0., 0.],\n",
       "       ...,\n",
       "       [0., 0., ..., 0., 0.],\n",
       "       [0., 0., ..., 0., 0.]], shape=(51, 35526)),\n",
       "         max_iter=300, n_clusters=51, n_init=10, n_jobs=1, random_state=42,\n",
       "         size_max=None, size_min=50, tol=0.0001, verbose=False)"
      ]
     },
     "execution_count": 67,
     "metadata": {},
     "output_type": "execute_result"
    }
   ],
   "source": [
    "n_clusters = 51\n",
    "\n",
    "mini_batch_kmeans_51 = MiniBatchKMeans(\n",
    "    n_clusters=n_clusters,\n",
    "    batch_size=256,\n",
    "    random_state=42\n",
    ")\n",
    "\n",
    "mini_batch_kmeans_51.fit(tfidf_matrix_dense)\n",
    "\n",
    "# Etapa 2: KMeansConstrained usando os centros do MiniBatch\n",
    "kmeans_51= KMeansConstrained(\n",
    "    n_clusters=n_clusters,\n",
    "    size_min=50,\n",
    "    init=mini_batch_kmeans_51.cluster_centers_,  # Inicialização dos centros\n",
    "    random_state=42\n",
    ")\n",
    "\n",
    "kmeans_51.fit(tfidf_matrix_dense)"
   ]
  },
  {
   "cell_type": "code",
   "execution_count": 68,
   "metadata": {},
   "outputs": [],
   "source": [
    "movies['cluster'] = kmeans_51.labels_"
   ]
  },
  {
   "cell_type": "code",
   "execution_count": 69,
   "metadata": {},
   "outputs": [
    {
     "data": {
      "text/plain": [
       "cluster\n",
       "21    1911\n",
       "14     163\n",
       "11     126\n",
       "0       92\n",
       "48      88\n",
       "24      76\n",
       "27      73\n",
       "29      70\n",
       "6       66\n",
       "39      60\n",
       "12      57\n",
       "34      54\n",
       "36      54\n",
       "28      53\n",
       "1       53\n",
       "45      52\n",
       "7       51\n",
       "49      50\n",
       "8       50\n",
       "13      50\n",
       "22      50\n",
       "20      50\n",
       "43      50\n",
       "42      50\n",
       "44      50\n",
       "16      50\n",
       "3       50\n",
       "32      50\n",
       "35      50\n",
       "26      50\n",
       "31      50\n",
       "33      50\n",
       "19      50\n",
       "2       50\n",
       "47      50\n",
       "17      50\n",
       "50      50\n",
       "23      50\n",
       "30      50\n",
       "15      50\n",
       "10      50\n",
       "46      50\n",
       "41      50\n",
       "25      50\n",
       "40      50\n",
       "5       50\n",
       "37      50\n",
       "9       50\n",
       "38      50\n",
       "18      50\n",
       "4       50\n",
       "Name: count, dtype: int64"
      ]
     },
     "execution_count": 69,
     "metadata": {},
     "output_type": "execute_result"
    }
   ],
   "source": [
    "movies['cluster'].value_counts()"
   ]
  },
  {
   "cell_type": "code",
   "execution_count": null,
   "metadata": {},
   "outputs": [
    {
     "name": "stdout",
     "output_type": "stream",
     "text": [
      "                                   title  \\\n",
      "7                Avengers: Age of Ultron   \n",
      "16                          The Avengers   \n",
      "26            Captain America: Civil War   \n",
      "31                            Iron Man 3   \n",
      "33                 X-Men: The Last Stand   \n",
      "46            X-Men: Days of Future Past   \n",
      "64                     X-Men: Apocalypse   \n",
      "68                              Iron Man   \n",
      "70                        Wild Wild West   \n",
      "76           G.I. Joe: The Rise of Cobra   \n",
      "79                            Iron Man 2   \n",
      "85   Captain America: The Winter Soldier   \n",
      "94               Guardians of the Galaxy   \n",
      "101                   X-Men: First Class   \n",
      "107                             Warcraft   \n",
      "\n",
      "                                                genres  \n",
      "7                  [Action, Adventure, ScienceFiction]  \n",
      "16                 [ScienceFiction, Action, Adventure]  \n",
      "26                 [Adventure, Action, ScienceFiction]  \n",
      "31                 [Action, Adventure, ScienceFiction]  \n",
      "33       [Adventure, Action, ScienceFiction, Thriller]  \n",
      "46        [Action, Adventure, Fantasy, ScienceFiction]  \n",
      "64                                    [ScienceFiction]  \n",
      "68                 [Action, ScienceFiction, Adventure]  \n",
      "70   [Action, Adventure, Comedy, ScienceFiction, We...  \n",
      "76       [Adventure, Action, Thriller, ScienceFiction]  \n",
      "79                 [Adventure, Action, ScienceFiction]  \n",
      "85                 [Action, Adventure, ScienceFiction]  \n",
      "94                 [Action, ScienceFiction, Adventure]  \n",
      "101                [Action, ScienceFiction, Adventure]  \n",
      "107                       [Action, Adventure, Fantasy]  \n"
     ]
    }
   ],
   "source": [
    "print(recommend_similar_movies('Spider-Man', 15))"
   ]
  },
  {
   "cell_type": "code",
   "execution_count": null,
   "metadata": {},
   "outputs": [
    {
     "name": "stdout",
     "output_type": "stream",
     "text": [
      "                                                 title  \\\n",
      "6                                              Tangled   \n",
      "15            The Chronicles of Narnia: Prince Caspian   \n",
      "37                          Oz: The Great and Powerful   \n",
      "48                               Jack the Giant Slayer   \n",
      "50                 Prince of Persia: The Sands of Time   \n",
      "55                                               Brave   \n",
      "63   The Chronicles of Narnia: The Lion, the Witch ...   \n",
      "80                         Snow White and the Huntsman   \n",
      "81                                          Maleficent   \n",
      "86                                 Shrek Forever After   \n",
      "103                          The Sorcerer's Apprentice   \n",
      "106                                    Shrek the Third   \n",
      "109  The Chronicles of Narnia: The Voyage of the Da...   \n",
      "113          Harry Potter and the Order of the Phoenix   \n",
      "114                Harry Potter and the Goblet of Fire   \n",
      "124                                             Frozen   \n",
      "130                                               Bolt   \n",
      "138                                 The Last Airbender   \n",
      "143                                                Pan   \n",
      "191           Harry Potter and the Prisoner of Azkaban   \n",
      "197           Harry Potter and the Philosopher's Stone   \n",
      "237                         The Huntsman: Winter's War   \n",
      "254                                         The Smurfs   \n",
      "258                                       The Smurfs 2   \n",
      "269                          The Princess and the Frog   \n",
      "276            Harry Potter and the Chamber of Secrets   \n",
      "292                                             Eragon   \n",
      "326                                         Cinderella   \n",
      "352                                              Mulan   \n",
      "391                                          Enchanted   \n",
      "410                                      Mirror Mirror   \n",
      "472                                 The Brothers Grimm   \n",
      "486                              The Last Witch Hunter   \n",
      "501                                  The Little Prince   \n",
      "565                                            Shrek 2   \n",
      "569           The SpongeBob Movie: Sponge Out of Water   \n",
      "572                                               Hook   \n",
      "591                                           Stardust   \n",
      "605                    Legends of Oz: Dorothy's Return   \n",
      "734                             The Tale of Despereaux   \n",
      "743                                    Practical Magic   \n",
      "769                   Sinbad: Legend of the Seven Seas   \n",
      "781                                           Inkheart   \n",
      "784      In the Name of the King: A Dungeon Siege Tale   \n",
      "899                                              Shrek   \n",
      "\n",
      "                                                genres  \n",
      "6                                  [Animation, Family]  \n",
      "15                        [Adventure, Family, Fantasy]  \n",
      "37                        [Fantasy, Adventure, Family]  \n",
      "48                           [Action, Family, Fantasy]  \n",
      "50               [Adventure, Fantasy, Action, Romance]  \n",
      "55   [Animation, Adventure, Comedy, Family, Action,...  \n",
      "63                        [Adventure, Family, Fantasy]  \n",
      "80                         [Adventure, Fantasy, Drama]  \n",
      "81       [Fantasy, Adventure, Action, Family, Romance]  \n",
      "86     [Comedy, Adventure, Fantasy, Animation, Family]  \n",
      "103        [Fantasy, Adventure, Action, Comedy, Drama]  \n",
      "106    [Fantasy, Adventure, Animation, Comedy, Family]  \n",
      "109                       [Adventure, Family, Fantasy]  \n",
      "113              [Adventure, Fantasy, Family, Mystery]  \n",
      "114                       [Adventure, Fantasy, Family]  \n",
      "124                     [Animation, Adventure, Family]  \n",
      "130             [Animation, Family, Adventure, Comedy]  \n",
      "138               [Action, Adventure, Family, Fantasy]  \n",
      "143                       [Adventure, Family, Fantasy]  \n",
      "191                       [Adventure, Fantasy, Family]  \n",
      "197                       [Adventure, Fantasy, Family]  \n",
      "237                         [Action, Adventure, Drama]  \n",
      "254    [Animation, Family, Adventure, Comedy, Fantasy]  \n",
      "258               [Fantasy, Family, Comedy, Animation]  \n",
      "269                [Romance, Family, Animation, Music]  \n",
      "276                       [Adventure, Fantasy, Family]  \n",
      "292               [Fantasy, Action, Adventure, Family]  \n",
      "326                  [Romance, Fantasy, Family, Drama]  \n",
      "352                     [Animation, Family, Adventure]  \n",
      "391                 [Comedy, Family, Fantasy, Romance]  \n",
      "410  [Adventure, Fantasy, Drama, Comedy, ScienceFic...  \n",
      "472     [Adventure, Fantasy, Action, Comedy, Thriller]  \n",
      "486                       [Fantasy, Action, Adventure]  \n",
      "501                    [Adventure, Animation, Fantasy]  \n",
      "565    [Adventure, Animation, Comedy, Family, Fantasy]  \n",
      "569             [Animation, Adventure, Comedy, Family]  \n",
      "572               [Adventure, Fantasy, Comedy, Family]  \n",
      "591              [Adventure, Fantasy, Romance, Family]  \n",
      "605                         [Animation, Music, Family]  \n",
      "734                     [Adventure, Animation, Family]  \n",
      "743                           [Drama, Fantasy, Comedy]  \n",
      "769                     [Family, Animation, Adventure]  \n",
      "781                       [Adventure, Family, Fantasy]  \n",
      "784                [Adventure, Fantasy, Action, Drama]  \n",
      "899    [Adventure, Animation, Comedy, Family, Fantasy]  \n"
     ]
    }
   ],
   "source": [
    "print(recommend_similar_movies('Harry Potter and the Half-Blood Prince', 45))"
   ]
  },
  {
   "cell_type": "code",
   "execution_count": null,
   "metadata": {},
   "outputs": [
    {
     "name": "stdout",
     "output_type": "stream",
     "text": [
      "                                                  title  \\\n",
      "7                               Avengers: Age of Ultron   \n",
      "16                                         The Avengers   \n",
      "26                           Captain America: Civil War   \n",
      "31                                           Iron Man 3   \n",
      "33                                X-Men: The Last Stand   \n",
      "46                           X-Men: Days of Future Past   \n",
      "64                                    X-Men: Apocalypse   \n",
      "68                                             Iron Man   \n",
      "70                                       Wild Wild West   \n",
      "76                          G.I. Joe: The Rise of Cobra   \n",
      "79                                           Iron Man 2   \n",
      "94                              Guardians of the Galaxy   \n",
      "101                                  X-Men: First Class   \n",
      "107                                            Warcraft   \n",
      "115                                             Hancock   \n",
      "122                            X-Men Origins: Wolverine   \n",
      "126                                Thor: The Dark World   \n",
      "129                                                Thor   \n",
      "159                                          Spider-Man   \n",
      "165                                                Hulk   \n",
      "169                  Captain America: The First Avenger   \n",
      "174                                 The Incredible Hulk   \n",
      "182                                             Ant-Man   \n",
      "196                                            Megamind   \n",
      "203                                                  X2   \n",
      "215              Fantastic 4: Rise of the Silver Surfer   \n",
      "232                                       The Wolverine   \n",
      "238                        Teenage Mutant Ninja Turtles   \n",
      "241    Teenage Mutant Ninja Turtles: Out of the Shadows   \n",
      "242                                      Fantastic Four   \n",
      "339                                     The Incredibles   \n",
      "511                                               X-Men   \n",
      "788                                            Deadpool   \n",
      "805                    Ghost Rider: Spirit of Vengeance   \n",
      "1090                                        The Phantom   \n",
      "1219                                     The Guilt Trip   \n",
      "1384                                               TMNT   \n",
      "1453                                               Zoom   \n",
      "1742                                         Kick-Ass 2   \n",
      "1829  Teenage Mutant Ninja Turtles II: The Secret of...   \n",
      "1852                                           Scarface   \n",
      "1870                                 Cradle 2 the Grave   \n",
      "2071                   Teenage Mutant Ninja Turtles III   \n",
      "2392                                          Red Sonja   \n",
      "2638                                          Listening   \n",
      "\n",
      "                                                 genres  \n",
      "7                   [Action, Adventure, ScienceFiction]  \n",
      "16                  [ScienceFiction, Action, Adventure]  \n",
      "26                  [Adventure, Action, ScienceFiction]  \n",
      "31                  [Action, Adventure, ScienceFiction]  \n",
      "33        [Adventure, Action, ScienceFiction, Thriller]  \n",
      "46         [Action, Adventure, Fantasy, ScienceFiction]  \n",
      "64                                     [ScienceFiction]  \n",
      "68                  [Action, ScienceFiction, Adventure]  \n",
      "70    [Action, Adventure, Comedy, ScienceFiction, We...  \n",
      "76        [Adventure, Action, Thriller, ScienceFiction]  \n",
      "79                  [Adventure, Action, ScienceFiction]  \n",
      "94                  [Action, ScienceFiction, Adventure]  \n",
      "101                 [Action, ScienceFiction, Adventure]  \n",
      "107                        [Action, Adventure, Fantasy]  \n",
      "115                                   [Fantasy, Action]  \n",
      "122       [Adventure, Action, Thriller, ScienceFiction]  \n",
      "126                        [Action, Adventure, Fantasy]  \n",
      "129                        [Adventure, Fantasy, Action]  \n",
      "159                                   [Fantasy, Action]  \n",
      "165                     [Drama, Action, ScienceFiction]  \n",
      "169                 [Action, Adventure, ScienceFiction]  \n",
      "174                 [ScienceFiction, Action, Adventure]  \n",
      "182                 [ScienceFiction, Action, Adventure]  \n",
      "196   [Animation, Action, Comedy, Family, ScienceFic...  \n",
      "203       [Adventure, Action, ScienceFiction, Thriller]  \n",
      "215              [Adventure, Fantasy, Action, Thriller]  \n",
      "232        [Action, ScienceFiction, Adventure, Fantasy]  \n",
      "238   [ScienceFiction, Action, Adventure, Fantasy, C...  \n",
      "241                [Fantasy, Action, Adventure, Comedy]  \n",
      "242                 [Action, Adventure, ScienceFiction]  \n",
      "339              [Action, Adventure, Animation, Family]  \n",
      "511                 [Adventure, Action, ScienceFiction]  \n",
      "788                         [Action, Adventure, Comedy]  \n",
      "805                         [Action, Fantasy, Thriller]  \n",
      "1090                                [Adventure, Action]  \n",
      "1219                                           [Comedy]  \n",
      "1384             [Adventure, Animation, Comedy, Family]  \n",
      "1453                          [Family, Fantasy, Comedy]  \n",
      "1742                         [Action, Adventure, Crime]  \n",
      "1829  [ScienceFiction, Adventure, Action, Comedy, Fa...  \n",
      "1852                   [Action, Crime, Drama, Thriller]  \n",
      "1870                             [Action, Crime, Drama]  \n",
      "2071  [Action, Adventure, Comedy, Family, Fantasy, S...  \n",
      "2392                       [Adventure, Fantasy, Action]  \n",
      "2638                  [Drama, Thriller, ScienceFiction]  \n"
     ]
    }
   ],
   "source": [
    "# Captain America: The Winter Soldier\n",
    "print(recommend_similar_movies('Captain America: The Winter Soldier', 45))"
   ]
  },
  {
   "cell_type": "code",
   "execution_count": 83,
   "metadata": {},
   "outputs": [
    {
     "name": "stdout",
     "output_type": "stream",
     "text": [
      "                                                  title  \\\n",
      "7                               Avengers: Age of Ultron   \n",
      "16                                         The Avengers   \n",
      "26                           Captain America: Civil War   \n",
      "31                                           Iron Man 3   \n",
      "46                           X-Men: Days of Future Past   \n",
      "64                                    X-Men: Apocalypse   \n",
      "68                                             Iron Man   \n",
      "70                                       Wild Wild West   \n",
      "76                          G.I. Joe: The Rise of Cobra   \n",
      "79                                           Iron Man 2   \n",
      "85                  Captain America: The Winter Soldier   \n",
      "94                              Guardians of the Galaxy   \n",
      "101                                  X-Men: First Class   \n",
      "107                                            Warcraft   \n",
      "115                                             Hancock   \n",
      "122                            X-Men Origins: Wolverine   \n",
      "126                                Thor: The Dark World   \n",
      "129                                                Thor   \n",
      "159                                          Spider-Man   \n",
      "165                                                Hulk   \n",
      "169                  Captain America: The First Avenger   \n",
      "174                                 The Incredible Hulk   \n",
      "182                                             Ant-Man   \n",
      "196                                            Megamind   \n",
      "203                                                  X2   \n",
      "215              Fantastic 4: Rise of the Silver Surfer   \n",
      "232                                       The Wolverine   \n",
      "238                        Teenage Mutant Ninja Turtles   \n",
      "241    Teenage Mutant Ninja Turtles: Out of the Shadows   \n",
      "242                                      Fantastic Four   \n",
      "339                                     The Incredibles   \n",
      "511                                               X-Men   \n",
      "788                                            Deadpool   \n",
      "805                    Ghost Rider: Spirit of Vengeance   \n",
      "1090                                        The Phantom   \n",
      "1219                                     The Guilt Trip   \n",
      "1384                                               TMNT   \n",
      "1453                                               Zoom   \n",
      "1742                                         Kick-Ass 2   \n",
      "1829  Teenage Mutant Ninja Turtles II: The Secret of...   \n",
      "1852                                           Scarface   \n",
      "1870                                 Cradle 2 the Grave   \n",
      "2071                   Teenage Mutant Ninja Turtles III   \n",
      "2392                                          Red Sonja   \n",
      "2638                                          Listening   \n",
      "\n",
      "                                                 genres  \n",
      "7                   [Action, Adventure, ScienceFiction]  \n",
      "16                  [ScienceFiction, Action, Adventure]  \n",
      "26                  [Adventure, Action, ScienceFiction]  \n",
      "31                  [Action, Adventure, ScienceFiction]  \n",
      "46         [Action, Adventure, Fantasy, ScienceFiction]  \n",
      "64                                     [ScienceFiction]  \n",
      "68                  [Action, ScienceFiction, Adventure]  \n",
      "70    [Action, Adventure, Comedy, ScienceFiction, We...  \n",
      "76        [Adventure, Action, Thriller, ScienceFiction]  \n",
      "79                  [Adventure, Action, ScienceFiction]  \n",
      "85                  [Action, Adventure, ScienceFiction]  \n",
      "94                  [Action, ScienceFiction, Adventure]  \n",
      "101                 [Action, ScienceFiction, Adventure]  \n",
      "107                        [Action, Adventure, Fantasy]  \n",
      "115                                   [Fantasy, Action]  \n",
      "122       [Adventure, Action, Thriller, ScienceFiction]  \n",
      "126                        [Action, Adventure, Fantasy]  \n",
      "129                        [Adventure, Fantasy, Action]  \n",
      "159                                   [Fantasy, Action]  \n",
      "165                     [Drama, Action, ScienceFiction]  \n",
      "169                 [Action, Adventure, ScienceFiction]  \n",
      "174                 [ScienceFiction, Action, Adventure]  \n",
      "182                 [ScienceFiction, Action, Adventure]  \n",
      "196   [Animation, Action, Comedy, Family, ScienceFic...  \n",
      "203       [Adventure, Action, ScienceFiction, Thriller]  \n",
      "215              [Adventure, Fantasy, Action, Thriller]  \n",
      "232        [Action, ScienceFiction, Adventure, Fantasy]  \n",
      "238   [ScienceFiction, Action, Adventure, Fantasy, C...  \n",
      "241                [Fantasy, Action, Adventure, Comedy]  \n",
      "242                 [Action, Adventure, ScienceFiction]  \n",
      "339              [Action, Adventure, Animation, Family]  \n",
      "511                 [Adventure, Action, ScienceFiction]  \n",
      "788                         [Action, Adventure, Comedy]  \n",
      "805                         [Action, Fantasy, Thriller]  \n",
      "1090                                [Adventure, Action]  \n",
      "1219                                           [Comedy]  \n",
      "1384             [Adventure, Animation, Comedy, Family]  \n",
      "1453                          [Family, Fantasy, Comedy]  \n",
      "1742                         [Action, Adventure, Crime]  \n",
      "1829  [ScienceFiction, Adventure, Action, Comedy, Fa...  \n",
      "1852                   [Action, Crime, Drama, Thriller]  \n",
      "1870                             [Action, Crime, Drama]  \n",
      "2071  [Action, Adventure, Comedy, Family, Fantasy, S...  \n",
      "2392                       [Adventure, Fantasy, Action]  \n",
      "2638                  [Drama, Thriller, ScienceFiction]  \n"
     ]
    }
   ],
   "source": [
    "# X-Men: The Last Stand\n",
    "print(recommend_similar_movies('X-Men: The Last Stand', 45))"
   ]
  },
  {
   "cell_type": "markdown",
   "metadata": {},
   "source": [
    "BOM (ESCOLHIDO)"
   ]
  },
  {
   "cell_type": "code",
   "execution_count": 111,
   "metadata": {},
   "outputs": [
    {
     "name": "stdout",
     "output_type": "stream",
     "text": [
      "33     13\n",
      "46     13\n",
      "64     13\n",
      "101    13\n",
      "122    13\n",
      "511    13\n",
      "Name: cluster, dtype: int32\n"
     ]
    }
   ],
   "source": [
    "xmen_movies = movies[movies['title'].str.contains(\"X-Men\", case=False, na=False)]\n",
    "print(xmen_movies['cluster'])"
   ]
  },
  {
   "cell_type": "code",
   "execution_count": 112,
   "metadata": {},
   "outputs": [
    {
     "name": "stdout",
     "output_type": "stream",
     "text": [
      "5      16\n",
      "20     16\n",
      "30     16\n",
      "38     16\n",
      "159    13\n",
      "Name: cluster, dtype: int32\n"
     ]
    }
   ],
   "source": [
    "spiderman_movies = movies[movies['title'].str.contains(\"Spider-Man\", case=False, na=False)]\n",
    "print(spiderman_movies['cluster'])"
   ]
  },
  {
   "cell_type": "code",
   "execution_count": 113,
   "metadata": {},
   "outputs": [
    {
     "name": "stdout",
     "output_type": "stream",
     "text": [
      "867     36\n",
      "2733    36\n",
      "3340    36\n",
      "Name: cluster, dtype: int32\n"
     ]
    }
   ],
   "source": [
    "godfather_movies = movies[movies['title'].str.contains(\"The Godfather\", case=False, na=False)]\n",
    "print(godfather_movies['cluster'])"
   ]
  },
  {
   "cell_type": "code",
   "execution_count": 114,
   "metadata": {},
   "outputs": [
    {
     "name": "stdout",
     "output_type": "stream",
     "text": [
      "8      10\n",
      "113    10\n",
      "114    10\n",
      "191    10\n",
      "197    10\n",
      "276    10\n",
      "Name: cluster, dtype: int32\n"
     ]
    }
   ],
   "source": [
    "harrypotter_movies = movies[movies['title'].str.contains(\"Harry Potter\", case=False, na=False)]\n",
    "print(harrypotter_movies['cluster'])"
   ]
  },
  {
   "cell_type": "markdown",
   "metadata": {},
   "source": [
    "### 56 clusters\n",
    "\n",
    "**Inertia:** 4654.6914\n",
    "\n",
    "**Silhouette:** 0.0003"
   ]
  },
  {
   "cell_type": "code",
   "execution_count": 54,
   "metadata": {},
   "outputs": [
    {
     "name": "stderr",
     "output_type": "stream",
     "text": [
      "/home/pedro/.local/lib/python3.10/site-packages/k_means_constrained/k_means_constrained_.py:643: RuntimeWarning: Explicit initial center position passed: performing only one init in k-means instead of n_init=10\n",
      "  k_means_constrained(\n"
     ]
    },
    {
     "data": {
      "text/plain": [
       "KMeansConstrained(copy_x=True,\n",
       "         init=array([[0., 0., ..., 0., 0.],\n",
       "       [0., 0., ..., 0., 0.],\n",
       "       ...,\n",
       "       [0., 0., ..., 0., 0.],\n",
       "       [0., 0., ..., 0., 0.]], shape=(56, 35551)),\n",
       "         max_iter=300, n_clusters=56, n_init=10, n_jobs=1, random_state=42,\n",
       "         size_max=None, size_min=50, tol=0.0001, verbose=False)"
      ]
     },
     "execution_count": 54,
     "metadata": {},
     "output_type": "execute_result"
    }
   ],
   "source": [
    "n_clusters = 56\n",
    "\n",
    "mini_batch_kmeans_56 = MiniBatchKMeans(\n",
    "    n_clusters=n_clusters,\n",
    "    batch_size=256,\n",
    "    random_state=42\n",
    ")\n",
    "\n",
    "mini_batch_kmeans_56.fit(tfidf_matrix_dense)\n",
    "\n",
    "# Etapa 2: KMeansConstrained usando os centros do MiniBatch\n",
    "kmeans_56= KMeansConstrained(\n",
    "    n_clusters=n_clusters,\n",
    "    size_min=50,\n",
    "    init=mini_batch_kmeans_56.cluster_centers_,  # Inicialização dos centros\n",
    "    random_state=42\n",
    ")\n",
    "\n",
    "kmeans_56.fit(tfidf_matrix_dense)"
   ]
  },
  {
   "cell_type": "code",
   "execution_count": 105,
   "metadata": {},
   "outputs": [],
   "source": [
    "movies['cluster'] = kmeans_56.labels_"
   ]
  },
  {
   "cell_type": "code",
   "execution_count": 56,
   "metadata": {},
   "outputs": [
    {
     "data": {
      "text/plain": [
       "cluster\n",
       "16    1711\n",
       "23     239\n",
       "12      79\n",
       "7       75\n",
       "30      74\n",
       "13      65\n",
       "31      63\n",
       "52      59\n",
       "44      59\n",
       "49      59\n",
       "28      55\n",
       "46      54\n",
       "48      53\n",
       "47      53\n",
       "8       52\n",
       "40      52\n",
       "4       51\n",
       "6       51\n",
       "53      51\n",
       "27      51\n",
       "35      50\n",
       "9       50\n",
       "17      50\n",
       "43      50\n",
       "21      50\n",
       "1       50\n",
       "29      50\n",
       "2       50\n",
       "3       50\n",
       "37      50\n",
       "32      50\n",
       "41      50\n",
       "0       50\n",
       "11      50\n",
       "45      50\n",
       "38      50\n",
       "51      50\n",
       "5       50\n",
       "55      50\n",
       "26      50\n",
       "39      50\n",
       "14      50\n",
       "18      50\n",
       "50      50\n",
       "25      50\n",
       "24      50\n",
       "36      50\n",
       "20      50\n",
       "22      50\n",
       "42      50\n",
       "10      50\n",
       "19      50\n",
       "54      50\n",
       "34      50\n",
       "15      50\n",
       "33      50\n",
       "Name: count, dtype: int64"
      ]
     },
     "execution_count": 56,
     "metadata": {},
     "output_type": "execute_result"
    }
   ],
   "source": [
    "movies['cluster'].value_counts()"
   ]
  },
  {
   "cell_type": "code",
   "execution_count": 57,
   "metadata": {},
   "outputs": [
    {
     "name": "stdout",
     "output_type": "stream",
     "text": [
      "                                         title  \\\n",
      "5                                 Spider-Man 3   \n",
      "8       Harry Potter and the Half-Blood Prince   \n",
      "15    The Chronicles of Narnia: Prince Caspian   \n",
      "20                      The Amazing Spider-Man   \n",
      "30                                Spider-Man 2   \n",
      "38                    The Amazing Spider-Man 2   \n",
      "94                     Guardians of the Galaxy   \n",
      "113  Harry Potter and the Order of the Phoenix   \n",
      "114        Harry Potter and the Goblet of Fire   \n",
      "143                                        Pan   \n",
      "191   Harry Potter and the Prisoner of Azkaban   \n",
      "197   Harry Potter and the Philosopher's Stone   \n",
      "198                                   R.I.P.D.   \n",
      "276    Harry Potter and the Chamber of Secrets   \n",
      "397                           It's Complicated   \n",
      "\n",
      "                                    genres  \n",
      "5             [Fantasy, Action, Adventure]  \n",
      "8             [Adventure, Fantasy, Family]  \n",
      "15            [Adventure, Family, Fantasy]  \n",
      "20            [Action, Adventure, Fantasy]  \n",
      "30            [Action, Adventure, Fantasy]  \n",
      "38            [Action, Adventure, Fantasy]  \n",
      "94     [Action, ScienceFiction, Adventure]  \n",
      "113  [Adventure, Fantasy, Family, Mystery]  \n",
      "114           [Adventure, Fantasy, Family]  \n",
      "143           [Adventure, Family, Fantasy]  \n",
      "191           [Adventure, Fantasy, Family]  \n",
      "197           [Adventure, Fantasy, Family]  \n",
      "198       [Fantasy, Action, Comedy, Crime]  \n",
      "276           [Adventure, Fantasy, Family]  \n",
      "397                      [Comedy, Romance]  \n"
     ]
    }
   ],
   "source": [
    "print(recommend_similar_movies('Spider-Man', 15))"
   ]
  },
  {
   "cell_type": "markdown",
   "metadata": {},
   "source": [
    "Relacionou MUITO Spider-Man com Harry Potter"
   ]
  },
  {
   "cell_type": "code",
   "execution_count": 73,
   "metadata": {},
   "outputs": [
    {
     "name": "stdout",
     "output_type": "stream",
     "text": [
      "                                         title  \\\n",
      "5                                 Spider-Man 3   \n",
      "15    The Chronicles of Narnia: Prince Caspian   \n",
      "20                      The Amazing Spider-Man   \n",
      "30                                Spider-Man 2   \n",
      "38                    The Amazing Spider-Man 2   \n",
      "94                     Guardians of the Galaxy   \n",
      "113  Harry Potter and the Order of the Phoenix   \n",
      "114        Harry Potter and the Goblet of Fire   \n",
      "143                                        Pan   \n",
      "159                                 Spider-Man   \n",
      "191   Harry Potter and the Prisoner of Azkaban   \n",
      "197   Harry Potter and the Philosopher's Stone   \n",
      "198                                   R.I.P.D.   \n",
      "276    Harry Potter and the Chamber of Secrets   \n",
      "397                           It's Complicated   \n",
      "\n",
      "                                    genres  \n",
      "5             [Fantasy, Action, Adventure]  \n",
      "15            [Adventure, Family, Fantasy]  \n",
      "20            [Action, Adventure, Fantasy]  \n",
      "30            [Action, Adventure, Fantasy]  \n",
      "38            [Action, Adventure, Fantasy]  \n",
      "94     [Action, ScienceFiction, Adventure]  \n",
      "113  [Adventure, Fantasy, Family, Mystery]  \n",
      "114           [Adventure, Fantasy, Family]  \n",
      "143           [Adventure, Family, Fantasy]  \n",
      "159                      [Fantasy, Action]  \n",
      "191           [Adventure, Fantasy, Family]  \n",
      "197           [Adventure, Fantasy, Family]  \n",
      "198       [Fantasy, Action, Comedy, Crime]  \n",
      "276           [Adventure, Fantasy, Family]  \n",
      "397                      [Comedy, Romance]  \n"
     ]
    }
   ],
   "source": [
    "# Harry Potter and the Half-Blood Prince\n",
    "\n",
    "print(recommend_similar_movies('Harry Potter and the Half-Blood Prince', 15))"
   ]
  },
  {
   "cell_type": "code",
   "execution_count": 106,
   "metadata": {},
   "outputs": [
    {
     "name": "stdout",
     "output_type": "stream",
     "text": [
      "33     35\n",
      "46     35\n",
      "64     35\n",
      "101    35\n",
      "122    35\n",
      "511    35\n",
      "Name: cluster, dtype: int32\n"
     ]
    }
   ],
   "source": [
    "xmen_movies = movies[movies['title'].str.contains(\"X-Men\", case=False, na=False)]\n",
    "print(xmen_movies['cluster'])"
   ]
  },
  {
   "cell_type": "code",
   "execution_count": 107,
   "metadata": {},
   "outputs": [
    {
     "name": "stdout",
     "output_type": "stream",
     "text": [
      "5      11\n",
      "20     11\n",
      "30     11\n",
      "38     11\n",
      "159    11\n",
      "Name: cluster, dtype: int32\n"
     ]
    }
   ],
   "source": [
    "spiderman_movies = movies[movies['title'].str.contains(\"Spider-Man\", case=False, na=False)]\n",
    "print(spiderman_movies['cluster'])"
   ]
  },
  {
   "cell_type": "code",
   "execution_count": 108,
   "metadata": {},
   "outputs": [
    {
     "name": "stdout",
     "output_type": "stream",
     "text": [
      "867     48\n",
      "2733    48\n",
      "3340    48\n",
      "Name: cluster, dtype: int32\n"
     ]
    }
   ],
   "source": [
    "godfather_movies = movies[movies['title'].str.contains(\"The Godfather\", case=False, na=False)]\n",
    "print(godfather_movies['cluster'])"
   ]
  },
  {
   "cell_type": "code",
   "execution_count": 109,
   "metadata": {},
   "outputs": [
    {
     "name": "stdout",
     "output_type": "stream",
     "text": [
      "8      11\n",
      "113    11\n",
      "114    11\n",
      "191    11\n",
      "197    11\n",
      "276    11\n",
      "Name: cluster, dtype: int32\n"
     ]
    }
   ],
   "source": [
    "harrypotter_movies = movies[movies['title'].str.contains(\"Harry Potter\", case=False, na=False)]\n",
    "print(harrypotter_movies['cluster'])"
   ]
  },
  {
   "cell_type": "markdown",
   "metadata": {},
   "source": [
    "### 73 clusters\n",
    "\n",
    "**Inertia:** 4640.9266\n",
    "\n",
    "**Silhouette:** 0.0001"
   ]
  },
  {
   "cell_type": "code",
   "execution_count": 58,
   "metadata": {},
   "outputs": [
    {
     "name": "stderr",
     "output_type": "stream",
     "text": [
      "/home/pedro/.local/lib/python3.10/site-packages/k_means_constrained/k_means_constrained_.py:643: RuntimeWarning: Explicit initial center position passed: performing only one init in k-means instead of n_init=10\n",
      "  k_means_constrained(\n"
     ]
    },
    {
     "data": {
      "text/plain": [
       "KMeansConstrained(copy_x=True,\n",
       "         init=array([[0., 0., ..., 0., 0.],\n",
       "       [0., 0., ..., 0., 0.],\n",
       "       ...,\n",
       "       [0., 0., ..., 0., 0.],\n",
       "       [0., 0., ..., 0., 0.]], shape=(73, 35551)),\n",
       "         max_iter=300, n_clusters=73, n_init=10, n_jobs=1, random_state=42,\n",
       "         size_max=None, size_min=50, tol=0.0001, verbose=False)"
      ]
     },
     "execution_count": 58,
     "metadata": {},
     "output_type": "execute_result"
    }
   ],
   "source": [
    "n_clusters = 73\n",
    "\n",
    "mini_batch_kmeans_73 = MiniBatchKMeans(\n",
    "    n_clusters=n_clusters,\n",
    "    batch_size=256,\n",
    "    random_state=42\n",
    ")\n",
    "\n",
    "mini_batch_kmeans_73.fit(tfidf_matrix_dense)\n",
    "\n",
    "# Etapa 2: KMeansConstrained usando os centros do MiniBatch\n",
    "kmeans_73= KMeansConstrained(\n",
    "    n_clusters=n_clusters,\n",
    "    size_min=50,\n",
    "    init=mini_batch_kmeans_73.cluster_centers_,  # Inicialização dos centros\n",
    "    random_state=42\n",
    ")\n",
    "\n",
    "kmeans_73.fit(tfidf_matrix_dense)"
   ]
  },
  {
   "cell_type": "code",
   "execution_count": 100,
   "metadata": {},
   "outputs": [],
   "source": [
    "movies['cluster'] = kmeans_73.labels_"
   ]
  },
  {
   "cell_type": "code",
   "execution_count": 60,
   "metadata": {},
   "outputs": [
    {
     "data": {
      "text/plain": [
       "cluster\n",
       "4     1130\n",
       "35      73\n",
       "63      65\n",
       "55      56\n",
       "16      56\n",
       "      ... \n",
       "48      50\n",
       "28      50\n",
       "70      50\n",
       "18      50\n",
       "3       50\n",
       "Name: count, Length: 73, dtype: int64"
      ]
     },
     "execution_count": 60,
     "metadata": {},
     "output_type": "execute_result"
    }
   ],
   "source": [
    "movies['cluster'].value_counts()"
   ]
  },
  {
   "cell_type": "code",
   "execution_count": 70,
   "metadata": {},
   "outputs": [
    {
     "name": "stdout",
     "output_type": "stream",
     "text": [
      "                                   title  \\\n",
      "5                           Spider-Man 3   \n",
      "7                Avengers: Age of Ultron   \n",
      "9     Batman v Superman: Dawn of Justice   \n",
      "10                      Superman Returns   \n",
      "14                          Man of Steel   \n",
      "16                          The Avengers   \n",
      "26            Captain America: Civil War   \n",
      "30                          Spider-Man 2   \n",
      "31                            Iron Man 3   \n",
      "33                 X-Men: The Last Stand   \n",
      "46            X-Men: Days of Future Past   \n",
      "64                     X-Men: Apocalypse   \n",
      "65                       The Dark Knight   \n",
      "68                              Iron Man   \n",
      "79                            Iron Man 2   \n",
      "85   Captain America: The Winter Soldier   \n",
      "101                   X-Men: First Class   \n",
      "115                              Hancock   \n",
      "119                        Batman Begins   \n",
      "122             X-Men Origins: Wolverine   \n",
      "126                 Thor: The Dark World   \n",
      "129                                 Thor   \n",
      "169   Captain America: The First Avenger   \n",
      "174                  The Incredible Hulk   \n",
      "182                              Ant-Man   \n",
      "\n",
      "                                            genres  \n",
      "5                     [Fantasy, Action, Adventure]  \n",
      "7              [Action, Adventure, ScienceFiction]  \n",
      "9                     [Action, Adventure, Fantasy]  \n",
      "10    [Adventure, Fantasy, Action, ScienceFiction]  \n",
      "14    [Action, Adventure, Fantasy, ScienceFiction]  \n",
      "16             [ScienceFiction, Action, Adventure]  \n",
      "26             [Adventure, Action, ScienceFiction]  \n",
      "30                    [Action, Adventure, Fantasy]  \n",
      "31             [Action, Adventure, ScienceFiction]  \n",
      "33   [Adventure, Action, ScienceFiction, Thriller]  \n",
      "46    [Action, Adventure, Fantasy, ScienceFiction]  \n",
      "64                                [ScienceFiction]  \n",
      "65                [Drama, Action, Crime, Thriller]  \n",
      "68             [Action, ScienceFiction, Adventure]  \n",
      "79             [Adventure, Action, ScienceFiction]  \n",
      "85             [Action, Adventure, ScienceFiction]  \n",
      "101            [Action, ScienceFiction, Adventure]  \n",
      "115                              [Fantasy, Action]  \n",
      "119                         [Action, Crime, Drama]  \n",
      "122  [Adventure, Action, Thriller, ScienceFiction]  \n",
      "126                   [Action, Adventure, Fantasy]  \n",
      "129                   [Adventure, Fantasy, Action]  \n",
      "169            [Action, Adventure, ScienceFiction]  \n",
      "174            [ScienceFiction, Action, Adventure]  \n",
      "182            [ScienceFiction, Action, Adventure]  \n"
     ]
    }
   ],
   "source": [
    "print(recommend_similar_movies('Spider-Man', 25))"
   ]
  },
  {
   "cell_type": "markdown",
   "metadata": {},
   "source": [
    "Poucos filmes do Spider-Man"
   ]
  },
  {
   "cell_type": "code",
   "execution_count": 101,
   "metadata": {},
   "outputs": [
    {
     "name": "stdout",
     "output_type": "stream",
     "text": [
      "33     51\n",
      "46     51\n",
      "64     51\n",
      "101    51\n",
      "122    51\n",
      "511    51\n",
      "Name: cluster, dtype: int32\n"
     ]
    }
   ],
   "source": [
    "xmen_movies = movies[movies['title'].str.contains(\"X-Men\", case=False, na=False)]\n",
    "print(xmen_movies['cluster'])"
   ]
  },
  {
   "cell_type": "code",
   "execution_count": 102,
   "metadata": {},
   "outputs": [
    {
     "name": "stdout",
     "output_type": "stream",
     "text": [
      "5      51\n",
      "20     16\n",
      "30     51\n",
      "38     12\n",
      "159    51\n",
      "Name: cluster, dtype: int32\n"
     ]
    }
   ],
   "source": [
    "spiderman_movies = movies[movies['title'].str.contains(\"Spider-Man\", case=False, na=False)]\n",
    "print(spiderman_movies['cluster'])"
   ]
  },
  {
   "cell_type": "code",
   "execution_count": 103,
   "metadata": {},
   "outputs": [
    {
     "name": "stdout",
     "output_type": "stream",
     "text": [
      "867     48\n",
      "2733    48\n",
      "3340    26\n",
      "Name: cluster, dtype: int32\n"
     ]
    }
   ],
   "source": [
    "godfather_movies = movies[movies['title'].str.contains(\"The Godfather\", case=False, na=False)]\n",
    "print(godfather_movies['cluster'])"
   ]
  },
  {
   "cell_type": "code",
   "execution_count": 104,
   "metadata": {},
   "outputs": [
    {
     "name": "stdout",
     "output_type": "stream",
     "text": [
      "8      40\n",
      "113    40\n",
      "114    40\n",
      "191    40\n",
      "197    40\n",
      "276    40\n",
      "Name: cluster, dtype: int32\n"
     ]
    }
   ],
   "source": [
    "harrypotter_movies = movies[movies['title'].str.contains(\"Harry Potter\", case=False, na=False)]\n",
    "print(harrypotter_movies['cluster'])"
   ]
  },
  {
   "cell_type": "markdown",
   "metadata": {},
   "source": [
    "#### Pesquisa de filmes com determinado nome"
   ]
  },
  {
   "cell_type": "code",
   "execution_count": 63,
   "metadata": {},
   "outputs": [
    {
     "name": "stdout",
     "output_type": "stream",
     "text": [
      "     movie_id                     title  \\\n",
      "5         559              Spider-Man 3   \n",
      "20       1930    The Amazing Spider-Man   \n",
      "30        558              Spider-Man 2   \n",
      "38     102382  The Amazing Spider-Man 2   \n",
      "159       557                Spider-Man   \n",
      "\n",
      "                                              overview  \\\n",
      "5    [The, seemingly, invincible, Spider-Man, goes,...   \n",
      "20   [Peter, Parker, is, an, outcast, high, schoole...   \n",
      "30   [Peter, Parker, is, going, through, a, major, ...   \n",
      "38   [For, Peter, Parker,, life, is, busy., Between...   \n",
      "159  [After, being, bitten, by, a, genetically, alt...   \n",
      "\n",
      "                           genres  \\\n",
      "5    [Fantasy, Action, Adventure]   \n",
      "20   [Action, Adventure, Fantasy]   \n",
      "30   [Action, Adventure, Fantasy]   \n",
      "38   [Action, Adventure, Fantasy]   \n",
      "159             [Fantasy, Action]   \n",
      "\n",
      "                                              keywords  \\\n",
      "5    [dualidentity, amnesia, sandstorm, loveofone's...   \n",
      "20   [lossoffather, vigilante, serum, marvelcomic, ...   \n",
      "30   [dualidentity, loveofone'slife, pizzaboy, marv...   \n",
      "38   [obsession, marvelcomic, sequel, basedoncomicb...   \n",
      "159  [lossoflover, spider, thanksgiving, badboss, h...   \n",
      "\n",
      "                                          cast        crew  \\\n",
      "5    [TobeyMaguire, KirstenDunst, JamesFranco]  [SamRaimi]   \n",
      "20      [AndrewGarfield, EmmaStone, RhysIfans]  [MarcWebb]   \n",
      "30   [TobeyMaguire, KirstenDunst, JamesFranco]  [SamRaimi]   \n",
      "38      [AndrewGarfield, EmmaStone, JamieFoxx]  [MarcWebb]   \n",
      "159  [TobeyMaguire, WillemDafoe, KirstenDunst]  [SamRaimi]   \n",
      "\n",
      "                                                  tags  \\\n",
      "5    [The, seemingly, invincible, Spider-Man, goes,...   \n",
      "20   [Peter, Parker, is, an, outcast, high, schoole...   \n",
      "30   [Peter, Parker, is, going, through, a, major, ...   \n",
      "38   [For, Peter, Parker,, life, is, busy., Between...   \n",
      "159  [After, being, bitten, by, a, genetically, alt...   \n",
      "\n",
      "                                     combined_features  cluster  \n",
      "5    ['Fantasy', 'Action', 'Adventure'] ['dualident...       51  \n",
      "20   ['Action', 'Adventure', 'Fantasy'] ['lossoffat...       16  \n",
      "30   ['Action', 'Adventure', 'Fantasy'] ['dualident...       51  \n",
      "38   ['Action', 'Adventure', 'Fantasy'] ['obsession...       12  \n",
      "159  ['Fantasy', 'Action'] ['lossoflover', 'spider'...       51  \n"
     ]
    }
   ],
   "source": [
    "spiderman_movies = movies[movies['title'].str.contains(\"Spider-Man\", case=False, na=False)]\n",
    "\n",
    "# Exibir os filmes filtrados\n",
    "print(spiderman_movies)"
   ]
  },
  {
   "cell_type": "code",
   "execution_count": 71,
   "metadata": {},
   "outputs": [
    {
     "name": "stdout",
     "output_type": "stream",
     "text": [
      "     movie_id                                      title  \\\n",
      "8         767     Harry Potter and the Half-Blood Prince   \n",
      "113       675  Harry Potter and the Order of the Phoenix   \n",
      "114       674        Harry Potter and the Goblet of Fire   \n",
      "191       673   Harry Potter and the Prisoner of Azkaban   \n",
      "197       671   Harry Potter and the Philosopher's Stone   \n",
      "276       672    Harry Potter and the Chamber of Secrets   \n",
      "\n",
      "                                              overview  \\\n",
      "8    [As, Harry, begins, his, sixth, year, at, Hogw...   \n",
      "113  [Returning, for, his, fifth, year, of, study, ...   \n",
      "114  [Harry, starts, his, fourth, year, at, Hogwart...   \n",
      "191  [Harry,, Ron, and, Hermione, return, to, Hogwa...   \n",
      "197  [Harry, Potter, has, lived, under, the, stairs...   \n",
      "276  [Ignoring, threats, to, his, life,, Harry, ret...   \n",
      "\n",
      "                                    genres  \\\n",
      "8             [Adventure, Fantasy, Family]   \n",
      "113  [Adventure, Fantasy, Family, Mystery]   \n",
      "114           [Adventure, Fantasy, Family]   \n",
      "191           [Adventure, Fantasy, Family]   \n",
      "197           [Adventure, Fantasy, Family]   \n",
      "276           [Adventure, Fantasy, Family]   \n",
      "\n",
      "                                              keywords  \\\n",
      "8    [witch, magic, broom, schoolofwitchcraft, wiza...   \n",
      "113  [prophecy, witch, lossoflover, magic, cuttingt...   \n",
      "114  [magic, dyinganddeath, broom, sorcerer'sappren...   \n",
      "191  [flying, traitor, magic, cuttingthecord, child...   \n",
      "197  [witch, christmasparty, magic, cuttingthecord,...   \n",
      "276  [flyingcar, witch, magic, cuttingthecord, chil...   \n",
      "\n",
      "                                           cast             crew  \\\n",
      "8    [DanielRadcliffe, RupertGrint, EmmaWatson]     [DavidYates]   \n",
      "113  [DanielRadcliffe, RupertGrint, EmmaWatson]     [DavidYates]   \n",
      "114  [DanielRadcliffe, RupertGrint, EmmaWatson]     [MikeNewell]   \n",
      "191  [DanielRadcliffe, RupertGrint, EmmaWatson]  [AlfonsoCuarón]   \n",
      "197  [DanielRadcliffe, RupertGrint, EmmaWatson]  [ChrisColumbus]   \n",
      "276  [DanielRadcliffe, RupertGrint, EmmaWatson]  [ChrisColumbus]   \n",
      "\n",
      "                                                  tags  \\\n",
      "8    [As, Harry, begins, his, sixth, year, at, Hogw...   \n",
      "113  [Returning, for, his, fifth, year, of, study, ...   \n",
      "114  [Harry, starts, his, fourth, year, at, Hogwart...   \n",
      "191  [Harry,, Ron, and, Hermione, return, to, Hogwa...   \n",
      "197  [Harry, Potter, has, lived, under, the, stairs...   \n",
      "276  [Ignoring, threats, to, his, life,, Harry, ret...   \n",
      "\n",
      "                                     combined_features  cluster  \n",
      "8    ['Adventure', 'Fantasy', 'Family'] ['witch', '...       40  \n",
      "113  ['Adventure', 'Fantasy', 'Family', 'Mystery'] ...       40  \n",
      "114  ['Adventure', 'Fantasy', 'Family'] ['magic', '...       40  \n",
      "191  ['Adventure', 'Fantasy', 'Family'] ['flying', ...       40  \n",
      "197  ['Adventure', 'Fantasy', 'Family'] ['witch', '...       40  \n",
      "276  ['Adventure', 'Fantasy', 'Family'] ['flyingcar...       40  \n"
     ]
    }
   ],
   "source": [
    "spiderman_movies = movies[movies['title'].str.contains(\"Harry Potter\", case=False, na=False)]\n",
    "\n",
    "# Exibir os filmes filtrados\n",
    "print(spiderman_movies)"
   ]
  },
  {
   "cell_type": "markdown",
   "metadata": {},
   "source": [
    "### Escolhido 51 clusters\n",
    "\n",
    "Salvando o modelo na pasta `saved_models`"
   ]
  },
  {
   "cell_type": "code",
   "execution_count": 70,
   "metadata": {},
   "outputs": [],
   "source": [
    "import pickle\n",
    "\n",
    "with open(\"./../saved_models/movies_clustering.pkl\", \"wb\") as f:\n",
    "    pickle.dump(kmeans_51, f)"
   ]
  },
  {
   "cell_type": "markdown",
   "metadata": {},
   "source": [
    "Testar o carregamento do modelo e sua predição"
   ]
  },
  {
   "cell_type": "code",
   "execution_count": 71,
   "metadata": {},
   "outputs": [],
   "source": [
    "with open(\"./../saved_models/movies_clustering.pkl\", \"rb\") as f:\n",
    "    clustering_model = pickle.load(f)"
   ]
  },
  {
   "cell_type": "code",
   "execution_count": 72,
   "metadata": {},
   "outputs": [
    {
     "ename": "NameError",
     "evalue": "name 'recommend_similar_movies' is not defined",
     "output_type": "error",
     "traceback": [
      "\u001b[0;31m---------------------------------------------------------------------------\u001b[0m",
      "\u001b[0;31mNameError\u001b[0m                                 Traceback (most recent call last)",
      "Cell \u001b[0;32mIn[72], line 3\u001b[0m\n\u001b[1;32m      1\u001b[0m movies[\u001b[38;5;124m'\u001b[39m\u001b[38;5;124mcluster\u001b[39m\u001b[38;5;124m'\u001b[39m] \u001b[38;5;241m=\u001b[39m clustering_model\u001b[38;5;241m.\u001b[39mlabels_\n\u001b[0;32m----> 3\u001b[0m \u001b[38;5;28mprint\u001b[39m(\u001b[43mrecommend_similar_movies\u001b[49m(\u001b[38;5;124m'\u001b[39m\u001b[38;5;124mSpider-Man\u001b[39m\u001b[38;5;124m'\u001b[39m, \u001b[38;5;241m25\u001b[39m))\n",
      "\u001b[0;31mNameError\u001b[0m: name 'recommend_similar_movies' is not defined"
     ]
    }
   ],
   "source": [
    "movies['cluster'] = clustering_model.labels_\n",
    "\n",
    "print(recommend_similar_movies('Spider-Man', 25))"
   ]
  }
 ],
 "metadata": {
  "kernelspec": {
   "display_name": "Python 3",
   "language": "python",
   "name": "python3"
  },
  "language_info": {
   "codemirror_mode": {
    "name": "ipython",
    "version": 3
   },
   "file_extension": ".py",
   "mimetype": "text/x-python",
   "name": "python",
   "nbconvert_exporter": "python",
   "pygments_lexer": "ipython3",
   "version": "3.10.12"
  }
 },
 "nbformat": 4,
 "nbformat_minor": 2
}
